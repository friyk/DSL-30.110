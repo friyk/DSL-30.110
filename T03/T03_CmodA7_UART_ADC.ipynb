{
  "cells": [
    {
      "cell_type": "markdown",
      "metadata": {
        "id": "view-in-github",
        "colab_type": "text"
      },
      "source": [
        "<a href=\"https://colab.research.google.com/github/friyk/DSL-30.110/blob/main/T03/T03_CmodA7_UART_ADC.ipynb\" target=\"_parent\"><img src=\"https://colab.research.google.com/assets/colab-badge.svg\" alt=\"Open In Colab\"/></a>"
      ]
    },
    {
      "cell_type": "code",
      "source": [
        "!pip install moviepy\n",
        "from moviepy.editor import VideoFileClip\n",
        "from IPython.display import HTML\n",
        "import requests"
      ],
      "metadata": {
        "id": "EnJOffrqD8IB",
        "outputId": "cbadb49a-dd1f-48ab-bc3d-566137722f09",
        "colab": {
          "base_uri": "https://localhost:8080/"
        }
      },
      "execution_count": 1,
      "outputs": [
        {
          "output_type": "stream",
          "name": "stdout",
          "text": [
            "Requirement already satisfied: moviepy in /usr/local/lib/python3.11/dist-packages (1.0.3)\n",
            "Requirement already satisfied: decorator<5.0,>=4.0.2 in /usr/local/lib/python3.11/dist-packages (from moviepy) (4.4.2)\n",
            "Requirement already satisfied: imageio<3.0,>=2.5 in /usr/local/lib/python3.11/dist-packages (from moviepy) (2.37.0)\n",
            "Requirement already satisfied: imageio_ffmpeg>=0.2.0 in /usr/local/lib/python3.11/dist-packages (from moviepy) (0.6.0)\n",
            "Requirement already satisfied: tqdm<5.0,>=4.11.2 in /usr/local/lib/python3.11/dist-packages (from moviepy) (4.67.1)\n",
            "Requirement already satisfied: numpy>=1.17.3 in /usr/local/lib/python3.11/dist-packages (from moviepy) (2.0.2)\n",
            "Requirement already satisfied: requests<3.0,>=2.8.1 in /usr/local/lib/python3.11/dist-packages (from moviepy) (2.32.3)\n",
            "Requirement already satisfied: proglog<=1.0.0 in /usr/local/lib/python3.11/dist-packages (from moviepy) (0.1.10)\n",
            "Requirement already satisfied: pillow>=8.3.2 in /usr/local/lib/python3.11/dist-packages (from imageio<3.0,>=2.5->moviepy) (11.1.0)\n",
            "Requirement already satisfied: charset-normalizer<4,>=2 in /usr/local/lib/python3.11/dist-packages (from requests<3.0,>=2.8.1->moviepy) (3.4.1)\n",
            "Requirement already satisfied: idna<4,>=2.5 in /usr/local/lib/python3.11/dist-packages (from requests<3.0,>=2.8.1->moviepy) (3.10)\n",
            "Requirement already satisfied: urllib3<3,>=1.21.1 in /usr/local/lib/python3.11/dist-packages (from requests<3.0,>=2.8.1->moviepy) (2.3.0)\n",
            "Requirement already satisfied: certifi>=2017.4.17 in /usr/local/lib/python3.11/dist-packages (from requests<3.0,>=2.8.1->moviepy) (2025.1.31)\n"
          ]
        },
        {
          "output_type": "stream",
          "name": "stderr",
          "text": [
            "WARNING:py.warnings:/usr/local/lib/python3.11/dist-packages/moviepy/video/io/sliders.py:61: SyntaxWarning: \"is\" with a literal. Did you mean \"==\"?\n",
            "  if event.key is 'enter':\n",
            "\n"
          ]
        }
      ]
    },
    {
      "cell_type": "markdown",
      "metadata": {
        "id": "YRZDBQE42LDt"
      },
      "source": [
        "# T03 - CMOD A7 UART & ADC\n",
        "\n",
        "|Group members|Student ID|\n",
        "|---|---|\n",
        "|Chua Kevin Subong|1007002|\n",
        "|Kaung Khant Htet|1003437|\n",
        "|Ng Au Hern Wesley|1006888|\n",
        "|Pan Ziyue|1006658|\n",
        "|Shum Hei Lam|1009861|\n",
        "\n",
        "## Objective  \n",
        "Develop a Verilog-based ADC driver for the **CMOD A7 FPGA board** to interface with an SPI-based **MCP3202 ADC** (on a PMOD extension board). The project includes:  \n",
        "- Displaying ADC results on a 4-digit 7-segment display.  \n",
        "- Transmitting data to a PC via UART.  \n",
        "\n",
        "---\n",
        "\n",
        "## Key Features  \n",
        "1. **Reset Functionality**  \n",
        "   - Press **BTN1** to reset the system and reinitialize components.  \n",
        "\n",
        "2. **SPI ADC Driver**  \n",
        "   - Interface with MCP3202 ADC via SPI protocol.  \n",
        "   - Ensure accurate timing and data handling for sampling.  \n",
        "\n",
        "3. **ADC Value Display**  \n",
        "   - Process sampled data and display results on the 7-segment display.  \n",
        "\n",
        "4. **UART Transmission**  \n",
        "   - Transmit ADC data to a PC with configurable baud rate (e.g., 115200).  \n",
        "\n",
        "---\n",
        "\n",
        "## Deliverables  \n",
        "- **Verilog Code** for:  \n",
        "  - SPI ADC driver  \n",
        "  - 7-segment display controller  \n",
        "  - UART transmitter  \n",
        "- **Demonstration Video** (MP4, ≤1 min) showing:  \n",
        "  - Light sensor sampling → 7-segment display  \n",
        "  - Light sensor sampling → UART transmission to PC  \n",
        "  - Customized feature (optional)  \n",
        "\n",
        "---\n",
        "\n",
        "## Instructions  \n",
        "\n",
        "### Hardware Preparation  \n",
        "1. **7-Segment Display**  \n",
        "   - Use the **3642AS-1** 4-digit display.\n",
        "\n",
        "| FPGA Pin  | Segment/Digit Pin | Segment Label    |\n",
        "|-----------|-------------------|------------------|\n",
        "| PIO48     | 7                 | Segment-B        |\n",
        "| PIO47     | 8                 | Dig3 (Digit 3)   |\n",
        "| PIO46     | 9                 | Dig2 (Digit 2)   |\n",
        "| PIO45     | 10                | Segment-F        |\n",
        "| PIO44     | 11                | Segment-A        |\n",
        "| PIO43     | 12                | Dig1 (Digit 1)   |\n",
        "| PIO42     | 1                 | Segment-E        |\n",
        "| PIO41     | 2                 | Segment-D        |\n",
        "| PIO40     | 3                 | Segment-DP       |\n",
        "| PIO39     | 4                 | Segment-C        |\n",
        "| PIO38     | 5                 | Segment-G        |\n",
        "| PIO37     | 6                 | Dig4 (Digit 4)   |\n",
        "\n",
        "   - Connection Demo\n",
        "   ![Connect Schematic](https://github.com/pe8sutd/Colab_DSL_Practice25/blob/main/figure/T03_Connect.JPEG?raw=1)\n",
        "\n",
        "2. **MCP3202 ADC Extension Board**  \n",
        "   - Channel selection via SW1:  \n",
        "     - **Left**: External signals (EX0/EX1 → CH0/CH1)  \n",
        "     - **Right**: Onboard NTC (temp sensor) and LIGHT (ambient light sensor) → CH1/CH0.\n",
        "     - **[Schematic](https://github.com/pe8sutd/Colab_DSL_Practice25/blob/0865141e546e601a029f7c385b6bd2fd61b6fdb0/Demo_Code/T03_CmodA7_Uart_ADC/Figure/Schematic_M2_Temp_Light_Sensor.pdf)**: https://github.com/pe8sutd/Colab_DSL_Practice25/blob/0865141e546e601a029f7c385b6bd2fd61b6fdb0/Demo_Code/T03_CmodA7_Uart_ADC/Figure/Schematic_M2_Temp_Light_Sensor.pdf\n",
        "\n",
        "     ![Ext Board Schematic](https://github.com/pe8sutd/Colab_DSL_Practice25/blob/main/figure/T03_Ext.png?raw=1)\n",
        "\n",
        "### FPGA Project  \n",
        "1. **Vivado Setup**  \n",
        "   - Create a project for **CMOD A7-35T**.  \n",
        "\n",
        "2. **Verilog Implementation**  \n",
        "\n",
        "3. **Constraint File (.xdc)**  \n",
        "\n",
        "4. **Bitstream & Programming**  \n",
        "   - Generate and flash the bitstream to the FPGA.  \n",
        "\n",
        "5. **Testing & Documentation**  \n",
        "   - Debug using onboard LEDs/UART output.  \n",
        "\n",
        "---\n",
        "\n",
        "## Simulation on Colab\n",
        "[![Open in Colab](https://colab.research.google.com/assets/colab-badge.svg)](https://colab.research.google.com/github/pe8sutd/Colab_DSL_Practice25/blob/main/Simulation/simT03_CmodA7_UART_ADC.ipynb)\n",
        "\n",
        "---\n",
        "\n",
        "## Deadline  \n",
        "- Submit via edimension by the specified due date.  \n",
        "\n",
        "---\n",
        "\n",
        "## Grading  \n",
        "- **Functionality** (50%): SPI/UART accuracy, display working.  \n",
        "- **Code Clarity** (30%): Clean Verilog, proper constraints.  \n",
        "- **Documentation** (20%): Report, diagrams, challenges.  \n",
        "- **Bonus**: Innovativeness (up to +30%).  \n",
        "\n",
        "- The report should present how AI is used in the design (if applicable). The guideline: [![Open in Colab](https://colab.research.google.com/assets/colab-badge.svg)](https://github.com/pe8sutd/Colab_DSL_Practice25/blob/main/G01_Used_of_AI_in_Design.ipynb)\n",
        "\n",
        "\n",
        "---\n",
        "\n",
        "\n"
      ]
    },
    {
      "cell_type": "markdown",
      "source": [
        "# Submission\n"
      ],
      "metadata": {
        "id": "h2bpCTQ68tWQ"
      }
    },
    {
      "cell_type": "markdown",
      "source": [
        "## Wiring\n",
        "\n",
        "![Wiring Diagram](https://github.com/friyk/DSL-30.110/blob/main/T03/photo_2025-04-03_12-37-07.jpg?raw=true)"
      ],
      "metadata": {
        "id": "cm7spogp90dR"
      }
    },
    {
      "cell_type": "markdown",
      "source": [
        "  ## **Verilog Code** for:  \n",
        "\n",
        "\n"
      ],
      "metadata": {
        "id": "q17hHu_s-RZG"
      }
    },
    {
      "cell_type": "markdown",
      "source": [
        "  ### 7 segment display controller"
      ],
      "metadata": {
        "id": "eFbbmOi8BQ8h"
      }
    },
    {
      "cell_type": "code",
      "source": [
        "%verilog\n",
        "// `timescale 1ns / 1ps\n",
        "//////////////////////////////////////////////////////////////////////////////////\n",
        "// Engineer: MaoYang\n",
        "// Create Date: 18.03.2024 11:57:44\n",
        "// Module Name: drv_segment\n",
        "//////////////////////////////////////////////////////////////////////////////////\n",
        "\n",
        "module drv_segment(\n",
        "    input rstn,\n",
        "    input clk500hz,\n",
        "    input [15:0] bcd_num,\n",
        "    output [3:0] an,\n",
        "    output [7:0] segment\n",
        ");\n",
        "\n",
        "reg [7:0] segment_r;\n",
        "reg [3:0] an_r;\n",
        "assign segment = ~ segment_r;\n",
        "reg [3:0] cur_num_r;        //Register - BCD Number Display at this moment;\n",
        "assign an = ~an_r;\n",
        "//Drive 7Segment Anode;\n",
        "//When an_r == 0001, DIG4 will turn on;\n",
        "//When an_r == 0001, at posedge clk500hz, an_r will be set to 0010(DIG3 ON);\n",
        "//When an_r == 0010, at posedge clk500hz, an_r will be set to 0100(DIG2 ON);\n",
        "//....\n",
        "//DIG4 -> DIG3 -> DIG2 -> DIG1 -> DIG4 -> DIG3 -> DIG2 -> ...;\n",
        "always @(negedge rstn,posedge clk500hz)begin\n",
        "    if(!rstn)begin\n",
        "        an_r <= 4'b0000;    //When system reset, empty all display;\n",
        "    end\n",
        "    else begin\n",
        "        case(an_r)\n",
        "        4'b0001: an_r <= 4'b0010;   //DISPLAY ON DIG3\n",
        "        4'b0010: an_r <= 4'b0100;   //DISPLAY ON DIG2\n",
        "        4'b0100: an_r <= 4'b1000;   //DISPLAY ON DIG1\n",
        "        default: an_r <= 4'b0001;   //DISPLAY ON DIG4\n",
        "        endcase\n",
        "    end\n",
        "end\n",
        "\n",
        "//When DIG4 on, BCD Number Display at this moment is bcd_num[3:0];  (i.e Stop Watch - Second Unit)\n",
        "//When DIG3 on, BCD Number Display at this moment is bcd_num[7:4];  (i.e Stop Watch - Second Decade)\n",
        "//When DIG2 on, BCD Number Display at this moment is bcd_num[11:8]; (i.e Stop Watch - Minute Unit)\n",
        "//When DIG1 on, BCD Number Display at this moment is bcd_num[15:12];(i.e Stop Watch - Minute Decade)\n",
        "always @(an_r,bcd_num)begin\n",
        "    case(an_r)\n",
        "        4'b0001: cur_num_r <= bcd_num[3:0];\n",
        "        4'b0010: cur_num_r <= bcd_num[7:4];\n",
        "        4'b0100: cur_num_r <= bcd_num[11:8];\n",
        "        4'b1000: cur_num_r <= bcd_num[15:12];\n",
        "        default: cur_num_r <= 4'b0;\n",
        "    endcase\n",
        "end\n",
        "\n",
        "//Decode BCD NUM into corrosponding 7Segment Code;\n",
        "always @(cur_num_r) begin\n",
        "    case(cur_num_r)\n",
        "        4'h0:segment_r <= 8'hc0;    //NUM \"0\"\n",
        "        4'h1:segment_r <= 8'hf9;    //NUM \"1\"\n",
        "        4'h2:segment_r <= 8'ha4;    //NUM \"2\"\n",
        "        4'h3:segment_r <= 8'hb0;    //NUM \"3\"\n",
        "        4'h4:segment_r <= 8'h99;    //NUM \"4\"\n",
        "        4'h5:segment_r <= 8'h92;    //NUM \"5\"\n",
        "        4'h6:segment_r <= 8'h82;    //NUM \"6\"\n",
        "        4'h7:segment_r <= 8'hF8;    //NUM \"7\"\n",
        "        4'h8:segment_r <= 8'h80;    //NUM \"8\"\n",
        "        4'h9:segment_r <= 8'h90;    //NUM \"9\"\n",
        "        4'ha:segment_r <= 8'h88;    //NUM \"A\" - HEX NUMBER DISPLAY\n",
        "        4'hb:segment_r <= 8'h83;    //NUM \"b\"\n",
        "        4'hc:segment_r <= 8'hc6;    //NUM \"C\"\n",
        "        4'hd:segment_r <= 8'ha1;    //NUM \"D\"\n",
        "        4'he:segment_r <= 8'h86;    //NUM \"E\"\n",
        "        4'hf:segment_r <= 8'h8e;    //NUM \"F\"\n",
        "        default: segment_r <= 8'hff;\n",
        "    endcase\n",
        "end\n",
        "\n",
        "endmodule\n"
      ],
      "metadata": {
        "id": "rw3L3acY__4r"
      },
      "execution_count": null,
      "outputs": []
    },
    {
      "cell_type": "markdown",
      "source": [
        "### SPI ADC driver"
      ],
      "metadata": {
        "id": "6RWb1GWDA_L3"
      }
    },
    {
      "cell_type": "code",
      "source": [
        "%verilog\n",
        "/*\n",
        " * Module: drv_mcp3202\n",
        " * Date : 2024/03/21\n",
        " * Author : Maoyang\n",
        " * Description:\n",
        " * This Verilog module implements an SPI interface for the MCP3202 Analog-to-Digital Converter (ADC).\n",
        " * It manages the communication process through a finite state machine (FSM) to read analog data and convert it to a digital format.\n",
        " *\n",
        " * Inputs:\n",
        " * - rstn: Active low reset signal.\n",
        " * - clk: Clock signal.\n",
        " * - ap_ready: Signal indicating the application is ready for data processing.\n",
        " * - mode: 2-bit input to select the ADC channel and configuration.\n",
        " *          localparam  SINGLE_CHAN0   = 2'b10; - CHANNEL 0;\n",
        " *          localparam  SINGLE_CHAN1   = 2'b11; - CHANNEL 1;\n",
        " *          localparam  DIFFER_CHAN01  = 2'b00;  - DIFFERENTIAL CHANNEL 01\n",
        " *          localparam  DIFFER_CHAN10  = 2'b01;  - DIFFERENTIAL CHANNEL 10\n",
        " * - port_din: Serial data input from the ADC.\n",
        " *\n",
        " * Outputs:\n",
        " * - ap_vaild: Signal that indicates valid data is available.\n",
        " * - data: 12-bit output holding the ADC conversion result.\n",
        " * - port_dout: Serial data output to the ADC.\n",
        " * - port_clk: Clock signal for the ADC.\n",
        " * - port_cs: Chip select signal for the ADC, active low.\n",
        " *\n",
        " * Functionality:\n",
        " * - The module configures the ADC based on the mode input.\n",
        " * - It uses an FSM to control the SPI communication process, including sending control bits, reading the ADC data, and signaling when new data is available.\n",
        " * - The ADC conversion result is made available as a 12-bit output.\n",
        " * - The module ensures synchronization with the external ADC device through careful management of clock and control signals.\n",
        " *\n",
        " * Implementation Details:\n",
        " * - The Data_Transmit wire is used to send control signals to the ADC.\n",
        " * - The Data_Receive register captures the ADC output.\n",
        " * - The FSM transitions through several states (IDLE, WRITE, READ, STOP) to manage the entire data transfer process.\n",
        " * - The cnter_writ and cnter_read registers are used to track progress through the transmit and receive phases, respectively.\n",
        " */\n",
        "\n",
        "module drv_mcp3202(\n",
        "    input rstn,\n",
        "    input clk,\n",
        "    input   ap_ready,\n",
        "    output  reg ap_vaild,\n",
        "    input   [1:0] mode,\n",
        "    output  [11:0] data,\n",
        "\n",
        "    input   port_din,\n",
        "    output  reg port_dout,\n",
        "    output  port_clk,\n",
        "    output  reg port_cs\n",
        ");\n",
        "\n",
        "wire    [3:0]      Data_Transmit; // 4 bits CONTROL;\n",
        "reg     [12:0]     Data_Receive;  // 1 bit NULL + 12 bits DATA;\n",
        "\n",
        "assign Data_Transmit[3]    = 1'b1;\n",
        "assign Data_Transmit[0]    = 1'b1;\n",
        "assign Data_Transmit[2:1] = mode;\n",
        "\n",
        "reg [1:0]   fsm_statu,fsm_next;\n",
        "localparam FSM_IDLE = 2'b00;\n",
        "localparam FSM_WRIT = 2'b10;\n",
        "localparam FSM_READ = 2'b11;\n",
        "localparam FSM_STOP = 2'b01;\n",
        "\n",
        "reg [1:0] cnter_writ;\n",
        "reg [3:0] cnter_read;\n",
        "\n",
        "//FSM statu transfer;\n",
        "always @(posedge clk, negedge rstn) begin\n",
        "    if (!rstn)  fsm_statu <= FSM_IDLE;\n",
        "    else        fsm_statu <= fsm_next;\n",
        "end\n",
        "\n",
        "//FSM Transfer Condition;\n",
        "always @(*)begin\n",
        "    if(!rstn) fsm_next <= FSM_IDLE;\n",
        "    else begin\n",
        "        case (fsm_statu)\n",
        "            FSM_IDLE : fsm_next <= (ap_ready)? FSM_WRIT : FSM_IDLE;\n",
        "            FSM_WRIT : fsm_next <= (2'd0 == cnter_writ)? FSM_READ : FSM_WRIT;\n",
        "            FSM_READ : fsm_next <= (2'd0 == cnter_read)? FSM_STOP : FSM_READ;\n",
        "            FSM_STOP : fsm_next <= (!ap_ready)? FSM_STOP : FSM_IDLE;\n",
        "            default  : fsm_next <= FSM_IDLE;\n",
        "        endcase\n",
        "    end\n",
        "end\n",
        "\n",
        "//FSM Output - SPI Write Data\n",
        "always @(negedge rstn,negedge clk)begin\n",
        "    if (!rstn) begin\n",
        "        cnter_writ  <= 2'd3;\n",
        "        port_dout   <= 1'b1;\n",
        "        port_cs     <= 1'b1;\n",
        "    end else begin\n",
        "        case (fsm_statu)\n",
        "            FSM_IDLE : begin\n",
        "                cnter_writ  <= 2'd3;\n",
        "                port_dout   <= 1'b1;\n",
        "                port_cs     <= 1'b1;\n",
        "            end\n",
        "            FSM_WRIT : begin\n",
        "                port_cs     <= 1'b0;\n",
        "                port_dout   <= Data_Transmit[cnter_writ];\n",
        "                cnter_writ  <= cnter_writ - 1'b1;\n",
        "            end\n",
        "            FSM_READ : begin\n",
        "                port_cs     <= 1'b0;\n",
        "                port_dout   <= 1'b1;\n",
        "            end\n",
        "            FSM_STOP : port_cs     <= 1'b1;\n",
        "            default  : ;\n",
        "        endcase\n",
        "    end\n",
        "end\n",
        "\n",
        "//FSM Output - SPI Read  Data\n",
        "always @(negedge rstn,posedge clk)begin\n",
        "    if (!rstn) begin\n",
        "        cnter_read  <= 4'd13;\n",
        "        Data_Receive <= 13'h00;\n",
        "        ap_vaild = 1'b0;\n",
        "    end else begin\n",
        "        case (fsm_statu)\n",
        "            FSM_IDLE : begin\n",
        "                ap_vaild = 1'b0;\n",
        "                cnter_read  <= 4'd13;\n",
        "            end\n",
        "            FSM_WRIT : begin\n",
        "                Data_Receive <= 13'h00;\n",
        "            end\n",
        "            FSM_READ : begin\n",
        "                cnter_read <= cnter_read - 1'b1;\n",
        "                Data_Receive[cnter_read] <= port_din;\n",
        "            end\n",
        "            FSM_STOP : ap_vaild = 1'b1;\n",
        "            default  : ;\n",
        "        endcase\n",
        "    end\n",
        "end\n",
        "\n",
        "assign port_clk = clk | port_cs;\n",
        "assign data = Data_Receive[11:0];\n",
        "\n",
        "endmodule"
      ],
      "metadata": {
        "id": "kiG_uxlZBBgc"
      },
      "execution_count": null,
      "outputs": []
    },
    {
      "cell_type": "markdown",
      "source": [
        "### UART Transmitter"
      ],
      "metadata": {
        "id": "Eg2elgF9BTDi"
      }
    },
    {
      "cell_type": "code",
      "source": [
        "%verilog\n",
        "// Module Name: uart_tx\n",
        "// Date : 2024/03/24\n",
        "// Version : V0.1\n",
        "// Author : Maoyang\n",
        "// Description: Implements a UART transmitter with optional parity bit functionality. This module encodes and transmits\n",
        "// data over a serial line using the UART protocol. It supports transmitting data with start, stop, and optional parity bits,\n",
        "// and signals the completion of transmission.\n",
        "\n",
        "// Inputs:\n",
        "// clk: System clock signal for synchronizing the transmission process (Baud Rate).\n",
        "// ap_rstn: Asynchronous, active low reset signal to initialize or reset the module's internal states.\n",
        "// ap_ready: Input signal indicating readiness to start data transmission. When high, transmission begins.\n",
        "// pairty: Input signal to enable (when high) or disable (when low) parity bit generation and transmission.\n",
        "// data: 8-bit data input to be transmitted over UART.\n",
        "\n",
        "// Outputs:\n",
        "// ap_vaild: Output signal that indicates the completion of a data transmission cycle.\n",
        "// tx: Serial output transmitting the encoded data along with start, stop, and optional parity bits.\n",
        "\n",
        "// Local Parameters:\n",
        "// FSM_IDLE, FSM_STAR, FSM_TRSF, FSM_PARI, FSM_STOP: Represent the states of the finite state machine (FSM) controlling\n",
        "// the UART transmission process, from idle, through start bit, data transmission, optional parity bit, and stop bit.\n",
        "\n",
        "// Internal Registers:\n",
        "// fsm_statu: Holds the current state of the FSM.\n",
        "// fsm_next: Determines the next state of the FSM based on the current state and input signals.\n",
        "// cnter: Counter used during the data transmission state to index through the data bits.\n",
        "\n",
        "// Behavioral Blocks:\n",
        "// 1. fsm statu transfer: Sequential logic block that updates the current state of the FSM on each positive clock edge or\n",
        "//    on negative edge of ap_rstn. Resets to FSM_IDLE on reset.\n",
        "// 2. fsm conditional transfer: Combinatorial logic block that determines the next state of the FSM based on current\n",
        "//    conditions like ap_ready signal, counter value, and parity configuration.\n",
        "// 3. fsm - output: Sequential logic block that performs actions based on the current FSM state, including setting the\n",
        "//    tx output according to the data bits, generating a parity bit if enabled, and indicating the end of transmission\n",
        "//    through ap_vaild signal. Also handles the initialization of internal signals on reset.\n",
        "\n",
        "// Note: This module is designed to be synthesized and integrated into larger systems requiring UART transmission\n",
        "// capabilities, with configurable support for parity bit for error detection.\n",
        "module drv_uart_tx(\n",
        "    input   clk,\n",
        "    input   ap_rstn,\n",
        "    input   ap_ready,\n",
        "    output  reg ap_vaild,\n",
        "    output  reg tx,\n",
        "    input   pairty,\n",
        "    input  [7:0] data\n",
        ");\n",
        "\n",
        "localparam  FSM_IDLE = 3'b000,\n",
        "            FSM_STAR = 3'b001,\n",
        "            FSM_TRSF = 3'b010,\n",
        "            FSM_PARI = 3'b011,\n",
        "            FSM_STOP = 3'b100;\n",
        "\n",
        "reg [2:0] fsm_statu;\n",
        "reg [2:0] fsm_next;\n",
        "reg [2:0] cnter;\n",
        "\n",
        "//fsm statu transfer;\n",
        "always @(posedge clk, negedge ap_rstn) begin\n",
        "    if (!ap_rstn)begin\n",
        "        fsm_statu <= FSM_IDLE;\n",
        "    end else begin\n",
        "        fsm_statu <= fsm_next;\n",
        "    end\n",
        "end\n",
        "\n",
        "//fsm conditional transfer;\n",
        "always @(*)begin\n",
        "    if(!ap_rstn)begin\n",
        "        fsm_next <= FSM_IDLE;\n",
        "    end else begin\n",
        "        case(fsm_statu)\n",
        "            FSM_IDLE:begin\n",
        "                fsm_next <= (ap_ready) ? FSM_STAR : FSM_IDLE;\n",
        "            end\n",
        "            FSM_STAR: fsm_next <= FSM_TRSF;\n",
        "            FSM_TRSF:begin\n",
        "                fsm_next <= (cnter == 3'h7) ? (pairty?FSM_PARI:FSM_STOP) : FSM_TRSF;\n",
        "            end\n",
        "            FSM_PARI: fsm_next <= FSM_STOP;\n",
        "            FSM_STOP:begin\n",
        "                fsm_next <= (!ap_ready) ? FSM_IDLE : FSM_STOP;\n",
        "            end\n",
        "            default: fsm_next <= FSM_IDLE;\n",
        "        endcase\n",
        "    end\n",
        "end\n",
        "\n",
        "//fsm - output\n",
        "always @(posedge clk, negedge ap_rstn)begin\n",
        "    if(!ap_rstn)begin\n",
        "        ap_vaild <= 1'b0;\n",
        "        tx <= 1'b1;\n",
        "        cnter <= 3'h0;\n",
        "    end else begin\n",
        "        case (fsm_statu)\n",
        "            FSM_IDLE: begin\n",
        "                tx <= 1'b1;\n",
        "                ap_vaild <= 1'b0;\n",
        "            end\n",
        "            FSM_STAR: begin\n",
        "                tx <= 1'b0;\n",
        "                cnter <= 3'h0;\n",
        "            end\n",
        "            FSM_TRSF: begin\n",
        "                tx <= data[cnter];\n",
        "                cnter <= cnter + 1'b1;\n",
        "            end\n",
        "            FSM_PARI: tx <= (^data); //Parity Check - ODD Check;\n",
        "            FSM_STOP: begin\n",
        "                tx <= 1'b1;         //Stop Bit;\n",
        "                ap_vaild <= 1'b1;\n",
        "            end\n",
        "        endcase\n",
        "    end\n",
        "end\n",
        "\n",
        "endmodule"
      ],
      "metadata": {
        "id": "ob6-rq_XBVqV"
      },
      "execution_count": null,
      "outputs": []
    },
    {
      "cell_type": "markdown",
      "source": [
        "  ## **Demonstration Video**\n",
        "\n",
        "  - Light sensor sampling → 7-segment display  \n",
        "  - Light sensor sampling → UART transmission to PC  \n",
        "  - Customized feature (optional)  "
      ],
      "metadata": {
        "id": "rqwe0qDO__mS"
      }
    },
    {
      "cell_type": "markdown",
      "source": [
        "### Reset functionality"
      ],
      "metadata": {
        "id": "ICPrlsq1CIxd"
      }
    },
    {
      "cell_type": "markdown",
      "source": [],
      "metadata": {
        "id": "O1Ob0pqcDv96"
      }
    },
    {
      "cell_type": "code",
      "source": [
        "video_url = \"https://github.com/friyk/DSL-30.110/blob/main/T03/Reset%20Button.mp4?raw=true\"\n",
        "video_path = \"Reset_Button.mp4\"  # Local file name\n",
        "\n",
        "response = requests.get(video_url, stream=True)\n",
        "with open(video_path, 'wb') as file:\n",
        "    for chunk in response.iter_content(chunk_size=1024):\n",
        "        if chunk:\n",
        "            file.write(chunk)\n",
        "\n",
        "video = VideoFileClip(video_path)  # Use the local file name\n",
        "video_html = video.ipython_display(width=640, autoplay=False, loop=False)  # Customize as needed\n",
        "HTML(video_html)"
      ],
      "metadata": {
        "id": "cY7IcHqhCKrP",
        "outputId": "84a06f13-7697-49fd-fdd8-e5f92a3c22b7",
        "colab": {
          "base_uri": "https://localhost:8080/",
          "height": 460
        }
      },
      "execution_count": 2,
      "outputs": [
        {
          "output_type": "stream",
          "name": "stdout",
          "text": [
            "Moviepy - Building video __temp__.mp4.\n",
            "MoviePy - Writing audio in __temp__TEMP_MPY_wvf_snd.mp3\n"
          ]
        },
        {
          "output_type": "stream",
          "name": "stderr",
          "text": []
        },
        {
          "output_type": "stream",
          "name": "stdout",
          "text": [
            "MoviePy - Done.\n",
            "Moviepy - Writing video __temp__.mp4\n",
            "\n"
          ]
        },
        {
          "output_type": "stream",
          "name": "stderr",
          "text": []
        },
        {
          "output_type": "stream",
          "name": "stdout",
          "text": [
            "Moviepy - Done !\n",
            "Moviepy - video ready __temp__.mp4\n"
          ]
        },
        {
          "output_type": "error",
          "ename": "TypeError",
          "evalue": "'HTML2' object is not subscriptable",
          "traceback": [
            "\u001b[0;31m---------------------------------------------------------------------------\u001b[0m",
            "\u001b[0;31mTypeError\u001b[0m                                 Traceback (most recent call last)",
            "\u001b[0;32m<ipython-input-2-32d80fd70822>\u001b[0m in \u001b[0;36m<cell line: 0>\u001b[0;34m()\u001b[0m\n\u001b[1;32m     10\u001b[0m \u001b[0mvideo\u001b[0m \u001b[0;34m=\u001b[0m \u001b[0mVideoFileClip\u001b[0m\u001b[0;34m(\u001b[0m\u001b[0mvideo_path\u001b[0m\u001b[0;34m)\u001b[0m  \u001b[0;31m# Use the local file name\u001b[0m\u001b[0;34m\u001b[0m\u001b[0;34m\u001b[0m\u001b[0m\n\u001b[1;32m     11\u001b[0m \u001b[0mvideo_html\u001b[0m \u001b[0;34m=\u001b[0m \u001b[0mvideo\u001b[0m\u001b[0;34m.\u001b[0m\u001b[0mipython_display\u001b[0m\u001b[0;34m(\u001b[0m\u001b[0mwidth\u001b[0m\u001b[0;34m=\u001b[0m\u001b[0;36m640\u001b[0m\u001b[0;34m,\u001b[0m \u001b[0mautoplay\u001b[0m\u001b[0;34m=\u001b[0m\u001b[0;32mFalse\u001b[0m\u001b[0;34m,\u001b[0m \u001b[0mloop\u001b[0m\u001b[0;34m=\u001b[0m\u001b[0;32mFalse\u001b[0m\u001b[0;34m)\u001b[0m  \u001b[0;31m# Customize as needed\u001b[0m\u001b[0;34m\u001b[0m\u001b[0;34m\u001b[0m\u001b[0m\n\u001b[0;32m---> 12\u001b[0;31m \u001b[0mHTML\u001b[0m\u001b[0;34m(\u001b[0m\u001b[0mvideo_html\u001b[0m\u001b[0;34m)\u001b[0m\u001b[0;34m\u001b[0m\u001b[0;34m\u001b[0m\u001b[0m\n\u001b[0m",
            "\u001b[0;32m/usr/local/lib/python3.11/dist-packages/IPython/core/display.py\u001b[0m in \u001b[0;36m__init__\u001b[0;34m(self, data, url, filename, metadata)\u001b[0m\n\u001b[1;32m    721\u001b[0m             \u001b[0;32mreturn\u001b[0m \u001b[0mprefix\u001b[0m\u001b[0;34m.\u001b[0m\u001b[0mstartswith\u001b[0m\u001b[0;34m(\u001b[0m\u001b[0;34m\"<iframe \"\u001b[0m\u001b[0;34m)\u001b[0m \u001b[0;32mand\u001b[0m \u001b[0msuffix\u001b[0m\u001b[0;34m.\u001b[0m\u001b[0mendswith\u001b[0m\u001b[0;34m(\u001b[0m\u001b[0;34m\"</iframe>\"\u001b[0m\u001b[0;34m)\u001b[0m\u001b[0;34m\u001b[0m\u001b[0;34m\u001b[0m\u001b[0m\n\u001b[1;32m    722\u001b[0m \u001b[0;34m\u001b[0m\u001b[0m\n\u001b[0;32m--> 723\u001b[0;31m         \u001b[0;32mif\u001b[0m \u001b[0mwarn\u001b[0m\u001b[0;34m(\u001b[0m\u001b[0;34m)\u001b[0m\u001b[0;34m:\u001b[0m\u001b[0;34m\u001b[0m\u001b[0;34m\u001b[0m\u001b[0m\n\u001b[0m\u001b[1;32m    724\u001b[0m             \u001b[0mwarnings\u001b[0m\u001b[0;34m.\u001b[0m\u001b[0mwarn\u001b[0m\u001b[0;34m(\u001b[0m\u001b[0;34m\"Consider using IPython.display.IFrame instead\"\u001b[0m\u001b[0;34m)\u001b[0m\u001b[0;34m\u001b[0m\u001b[0;34m\u001b[0m\u001b[0m\n\u001b[1;32m    725\u001b[0m         \u001b[0msuper\u001b[0m\u001b[0;34m(\u001b[0m\u001b[0mHTML\u001b[0m\u001b[0;34m,\u001b[0m \u001b[0mself\u001b[0m\u001b[0;34m)\u001b[0m\u001b[0;34m.\u001b[0m\u001b[0m__init__\u001b[0m\u001b[0;34m(\u001b[0m\u001b[0mdata\u001b[0m\u001b[0;34m=\u001b[0m\u001b[0mdata\u001b[0m\u001b[0;34m,\u001b[0m \u001b[0murl\u001b[0m\u001b[0;34m=\u001b[0m\u001b[0murl\u001b[0m\u001b[0;34m,\u001b[0m \u001b[0mfilename\u001b[0m\u001b[0;34m=\u001b[0m\u001b[0mfilename\u001b[0m\u001b[0;34m,\u001b[0m \u001b[0mmetadata\u001b[0m\u001b[0;34m=\u001b[0m\u001b[0mmetadata\u001b[0m\u001b[0;34m)\u001b[0m\u001b[0;34m\u001b[0m\u001b[0;34m\u001b[0m\u001b[0m\n",
            "\u001b[0;32m/usr/local/lib/python3.11/dist-packages/IPython/core/display.py\u001b[0m in \u001b[0;36mwarn\u001b[0;34m()\u001b[0m\n\u001b[1;32m    717\u001b[0m             \u001b[0;31m# long string and we're only interested in its beginning and end.\u001b[0m\u001b[0;34m\u001b[0m\u001b[0;34m\u001b[0m\u001b[0m\n\u001b[1;32m    718\u001b[0m             \u001b[0;31m#\u001b[0m\u001b[0;34m\u001b[0m\u001b[0;34m\u001b[0m\u001b[0m\n\u001b[0;32m--> 719\u001b[0;31m             \u001b[0mprefix\u001b[0m \u001b[0;34m=\u001b[0m \u001b[0mdata\u001b[0m\u001b[0;34m[\u001b[0m\u001b[0;34m:\u001b[0m\u001b[0;36m10\u001b[0m\u001b[0;34m]\u001b[0m\u001b[0;34m.\u001b[0m\u001b[0mlower\u001b[0m\u001b[0;34m(\u001b[0m\u001b[0;34m)\u001b[0m\u001b[0;34m\u001b[0m\u001b[0;34m\u001b[0m\u001b[0m\n\u001b[0m\u001b[1;32m    720\u001b[0m             \u001b[0msuffix\u001b[0m \u001b[0;34m=\u001b[0m \u001b[0mdata\u001b[0m\u001b[0;34m[\u001b[0m\u001b[0;34m-\u001b[0m\u001b[0;36m10\u001b[0m\u001b[0;34m:\u001b[0m\u001b[0;34m]\u001b[0m\u001b[0;34m.\u001b[0m\u001b[0mlower\u001b[0m\u001b[0;34m(\u001b[0m\u001b[0;34m)\u001b[0m\u001b[0;34m\u001b[0m\u001b[0;34m\u001b[0m\u001b[0m\n\u001b[1;32m    721\u001b[0m             \u001b[0;32mreturn\u001b[0m \u001b[0mprefix\u001b[0m\u001b[0;34m.\u001b[0m\u001b[0mstartswith\u001b[0m\u001b[0;34m(\u001b[0m\u001b[0;34m\"<iframe \"\u001b[0m\u001b[0;34m)\u001b[0m \u001b[0;32mand\u001b[0m \u001b[0msuffix\u001b[0m\u001b[0;34m.\u001b[0m\u001b[0mendswith\u001b[0m\u001b[0;34m(\u001b[0m\u001b[0;34m\"</iframe>\"\u001b[0m\u001b[0;34m)\u001b[0m\u001b[0;34m\u001b[0m\u001b[0;34m\u001b[0m\u001b[0m\n",
            "\u001b[0;31mTypeError\u001b[0m: 'HTML2' object is not subscriptable"
          ]
        }
      ]
    },
    {
      "cell_type": "markdown",
      "source": [
        "### Light sensor sampling → 7-segment display"
      ],
      "metadata": {
        "id": "NxArBQUGB2OL"
      }
    },
    {
      "cell_type": "code",
      "source": [],
      "metadata": {
        "id": "HsZfu9qsB88_"
      },
      "execution_count": null,
      "outputs": []
    },
    {
      "cell_type": "markdown",
      "source": [
        "#Appendix"
      ],
      "metadata": {
        "id": "2krfPLruQ8pX"
      }
    },
    {
      "cell_type": "markdown",
      "source": [],
      "metadata": {
        "id": "20jGhXnc928h"
      }
    },
    {
      "cell_type": "markdown",
      "source": [
        "\n",
        "### 7-Segment Display Schematic\n",
        "![7-Segment Display Schematic](https://github.com/pe8sutd/Colab_DSL_Practice25/blob/main/figure/T03_7Segment.png?raw=1)\n",
        "\n",
        "\n",
        "### MCP3202 ADC  \n",
        "- **Datasheet**: [MCP3202 Datasheet](https://pdf1.alldatasheet.com/datasheet-pdf/view/74935/MICROCHIP/MCP3202.html)  \n",
        "- **PCB Layout**:  \n",
        "  - Use headers J1/J2 for breadboard mounting.  \n",
        "  - Input options: SMA port or 2.54mm header.  \n",
        "\n",
        "### Demo Figures  \n",
        "1. **ADC Sampling & UART Transmission**\n",
        "\n",
        "   ![ADC-UART](https://github.com/pe8sutd/Colab_DSL_Practice25/blob/main/figure/T03_ADC_UART.png?raw=1)  \n",
        "\n",
        "2. **Light Sensor Response**  \n",
        "\n",
        "   ![Light Sensor](https://github.com/pe8sutd/Colab_DSL_Practice25/blob/main/figure/T03_Light.png?raw=1)  \n",
        "\n",
        "---\n",
        "\n",
        "## References  \n",
        "- **Demo Code**: [CMODA7_Demo_MCP3202_SPI_Verilog](./Demo_Code/T03_CmodA7_Uart_ADC)  \n",
        "- **Vivado Guide**: [Vivado Guide Link](https://classroom.google.com/u/0/c/NzM2NTAyNzI3NDY5/m/NzI1OTgzMjk4NTI2/details)  \n",
        "- **EasyEDA Tutorial**: PCB design guidelines for CMOD A7.  "
      ],
      "metadata": {
        "id": "jXz3TV2WQZV_"
      }
    },
    {
      "cell_type": "markdown",
      "source": [],
      "metadata": {
        "id": "OP9fTvKuJHp6"
      }
    }
  ],
  "metadata": {
    "language_info": {
      "name": "python"
    },
    "colab": {
      "provenance": [],
      "include_colab_link": true
    },
    "kernelspec": {
      "name": "python3",
      "display_name": "Python 3"
    }
  },
  "nbformat": 4,
  "nbformat_minor": 0
}