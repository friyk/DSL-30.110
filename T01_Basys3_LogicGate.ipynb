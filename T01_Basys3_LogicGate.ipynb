{
  "cells": [
    {
      "cell_type": "markdown",
      "metadata": {
        "id": "view-in-github",
        "colab_type": "text"
      },
      "source": [
        "<a href=\"https://colab.research.google.com/github/friyk/DSL-30.110/blob/main/T01_Basys3_LogicGate.ipynb\" target=\"_parent\"><img src=\"https://colab.research.google.com/assets/colab-badge.svg\" alt=\"Open In Colab\"/></a>"
      ]
    },
    {
      "cell_type": "markdown",
      "source": [
        "#Setup\n"
      ],
      "metadata": {
        "id": "wRpaGdXD2F88"
      }
    },
    {
      "cell_type": "code",
      "source": [
        "!pip install git+https://github.com/pe8sutd/eda4u &> /dev/null\n",
        "!git clone https://github.com/pe8sutd/eda4u &> /dev/null\n",
        "%load_ext plugin"
      ],
      "metadata": {
        "id": "50IxxzIR2LIa"
      },
      "execution_count": 1,
      "outputs": []
    },
    {
      "cell_type": "markdown",
      "source": [
        "# T01: Basic Logic Gates on Basys 3 (T01_Basys3_LogicGate)"
      ],
      "metadata": {
        "id": "IOtLoFKHOPuV"
      }
    },
    {
      "cell_type": "markdown",
      "source": [
        "## Objectives:"
      ],
      "metadata": {
        "id": "SKAB6ho8VqnU"
      }
    },
    {
      "cell_type": "markdown",
      "source": [
        "\n",
        "Design and implement basic logic gates (NOT, AND, OR, XOR, NAND, NOR, XNOR) on the Basys 3 FPGA board using Verilog. Use switches `sw[0]` and `sw[1]` as inputs and LEDs `led[7:0]` to display the output of each gate. Demonstrate the input-output relationship using a truth table."
      ],
      "metadata": {
        "id": "zz7sAPXcObbr"
      }
    },
    {
      "cell_type": "markdown",
      "source": [
        "## Features:"
      ],
      "metadata": {
        "id": "0K4ku07uVvX7"
      }
    },
    {
      "cell_type": "markdown",
      "source": [
        "\n",
        "1. **Inputs**:  \n",
        "   - `sw[0]` (Input A)  \n",
        "   - `sw[1]` (Input B)  \n",
        "2. **Outputs**:  \n",
        "   - Use `led[0]` to `led[7]` to represent the output of each logic gate (see table below).  \n",
        "3. **Truth Table**:\n",
        "\n",
        "| sw[1] (B) | sw[0] (A) | NOT A (led[0]) | NOT B (led[1]) | AND (led[2]) | OR (led[3]) | NOR (led[4]) | NAND (led[5]) | XOR (led[6]) | XNOR (led[7]) |\n",
        "|:---------:|:---------:|:--------------:|:--------------:|:-----------:|:----------:|:-----------:|:------------:|:-----------:|:------------:|\n",
        "| 0         | 0         | 1              | 1              | 0           | 0          | 1           | 1            | 0           | 1            |\n",
        "| 0         | 1         | 0              | 1              | 0           | 1          | 0           | 1            | 1           | 0            |\n",
        "| 1         | 0         | 1              | 0              | 0           | 1          | 0           | 1            | 1           | 0            |\n",
        "| 1         | 1         | 0              | 0              | 1           | 1          | 0           | 0            | 0           | 1            |\n"
      ],
      "metadata": {
        "id": "d_i2PJivOhV7"
      }
    },
    {
      "cell_type": "markdown",
      "source": [
        "## Instructions"
      ],
      "metadata": {
        "id": "scDyn9skO0zL"
      }
    },
    {
      "cell_type": "markdown",
      "source": [
        "  \n",
        "### FPGA Project  \n",
        "1. **Install Vivado** if you have not done so. [O1 Install Vivado FPGA Development Environment](https://classroom.google.com/c/NzM2NTAyNzI3NDY5/m/NzM3NDY5Mzk4NDQy/details)\n",
        "\n",
        "2. **General Guides for Creating a new Vivado project** for the Basys 3 board. [O2 Vivado Project Guideline](https://classroom.google.com/u/0/c/NzM2NTAyNzI3NDY5/m/NzI1OTgzMjk4NTI2/details).\n",
        "\n",
        "3. **Implementation**: There are two parts in this handson. The guidelines are illustrated in [simT01_Basys3_LogicGate](https://classroom.google.com/c/NzM2NTAyNzI3NDY5/m/NzM4NDA0MDkwMDQ5/details), where Youtube guides are also available.  \n",
        "  - Simulation in Google Colab.\n",
        "    - **Write a testbench** to verify all gate behaviors across all input combinations.  \n",
        "    - **Simulate** the design and confirm outputs match the truth table.  \n",
        "  - Copy the Verilog HDL files from Google Colab to Vivado.\n",
        "\n",
        "4. **Key Steps**\n",
        "  - i. **Write Verilog code** to implement the logic gates, mapping `sw[0]` and `sw[1]` as inputs and `led[0]` to `led[7]` as outputs.  \n",
        "\n",
        "  - ii. **Map the design** to the Basys 3 board’s switches and LEDs using a `.xdc` constraint file.\n",
        "  \n",
        "  https://github.com/Digilent/digilent-xdc/blob/master/Basys-3-Master.xdc\n",
        "\n",
        "  - iii. **Generate the bitstream**, program the FPGA, and test the logic gates.  "
      ],
      "metadata": {
        "id": "gmlezIvSOtgs"
      }
    },
    {
      "cell_type": "markdown",
      "source": [
        "## Submission:"
      ],
      "metadata": {
        "id": "BJE6AckDU9ys"
      }
    },
    {
      "cell_type": "markdown",
      "source": [
        "1. A self-contained `ipynb` file with:  \n",
        "   - **Verilog code** (module, testbench, and waveform screenshots).  \n",
        "   - **Google Colab/GitHub link** for collaboration.  \n",
        "   - **Demo video** (showing switch inputs and LED outputs).  \n",
        "   - **Brief report** documenting design steps, challenges, and lessons learned.\n",
        "   - The report should present how AI is used in the design (if applicable). The guideline: [![Open in Colab](https://colab.research.google.com/assets/colab-badge.svg)](https://github.com/pe8sutd/Colab_DSL_Practice25/blob/main/G01_Used_of_AI_in_Design.ipynb)\n",
        "     \n",
        "2. Submit to **edimension** and share with instructor GitHub: `pe8sutd`."
      ],
      "metadata": {
        "id": "xTJMWuQRVQHr"
      }
    },
    {
      "cell_type": "markdown",
      "metadata": {
        "id": "N9HQ5uAudE4i"
      },
      "source": [
        "### Deadline:  \n",
        "Refer to the due date in the **edimension submission folder**.  \n",
        "\n",
        "---\n",
        "\n",
        "### Grading:  \n",
        "- Correct implementation of all logic gates.  \n",
        "- Accuracy of truth table and simulation results.  \n",
        "- Code readability and constraint file correctness.\n",
        "\n",
        "---\n",
        "\n",
        "\n"
      ]
    },
    {
      "cell_type": "markdown",
      "source": [
        "#Logic_Gate.v"
      ],
      "metadata": {
        "id": "OsluwNBkw_69"
      }
    },
    {
      "cell_type": "code",
      "source": [
        "%%print_verilog\n",
        "`timescale 1ns / 1ps\n",
        "//\n",
        "module logic_gate(\n",
        "input [1:0]sw, // 2-bit input (sw[1], sw[0]), use 1 bit only\n",
        "output [7:0]led // 8-bit output (led[7:0]), use 1 bit only\n",
        ");\n",
        "// Logic gate implementations\n",
        "assign led[0] = ~sw[0]; // NOT A\n",
        "assign led[1] = ~sw[1]; // NOT B\n",
        "assign led[2] = sw[0] & sw[1]; // A AND B\n",
        "assign led[3] = sw[0] | sw[1]; // A OR B\n",
        "assign led[4] = ~(sw[0] | sw[1]); // A NOR B\n",
        "assign led[5] = ~(sw[0] & sw[1]); // A NAND B\n",
        "assign led[6] = sw[0] ^ sw[1]; // A XOR B\n",
        "assign led[7] = ~(sw[0] ^ sw[1]); // A XNOR B\n",
        "\n",
        "endmodule\n",
        "\n",
        "//\n"
      ],
      "metadata": {
        "id": "lVeq7-3d1AoL",
        "outputId": "4323c53e-b0a8-4cd9-9cb5-a10c3a8ca2c0",
        "colab": {
          "base_uri": "https://localhost:8080/",
          "height": 338
        }
      },
      "execution_count": 2,
      "outputs": [
        {
          "output_type": "stream",
          "name": "stdout",
          "text": [
            "Installing. Please wait... done!\n"
          ]
        },
        {
          "output_type": "display_data",
          "data": {
            "text/plain": [
              "<IPython.core.display.SVG object>"
            ],
            "image/svg+xml": "<svg xmlns=\"http://www.w3.org/2000/svg\" xmlns:xlink=\"http://www.w3.org/1999/xlink\" xmlns:s=\"https://github.com/nturley/netlistsvg\" width=\"436\" height=\"299.5\"><style>svg {\n  stroke:#000;\n  fill:none;\n}\ntext {\n  fill:#000;\n  stroke:none;\n  font-size:10px;\n  font-weight: bold;\n  font-family: &quot;Courier New&quot;, monospace;\n}\nline {\n    stroke-linecap: round;\n}\n.nodelabel {\n  text-anchor: middle;\n}\n.inputPortLabel {\n  text-anchor: end;\n}\n.splitjoinBody {\n  fill:#000;\n}</style><g s:type=\"and\" transform=\"translate(164,88)\" s:width=\"30\" s:height=\"25\" id=\"cell_$and$/content/code.v:10$3\"><s:alias val=\"$and\"/><s:alias val=\"$logic_and\"/><s:alias val=\"$_AND_\"/><s:alias val=\"$reduce_and\"/><path d=\"M0,0 L0,25 L15,25 A15 12.5 0 0 0 15,0 Z\" class=\"cell_$and$/content/code.v:10$3\"/><g s:x=\"0\" s:y=\"5\" s:pid=\"A\"/><g s:x=\"0\" s:y=\"20\" s:pid=\"B\"/><g s:x=\"30\" s:y=\"12.5\" s:pid=\"Y\"/></g><g s:type=\"not\" transform=\"translate(232,171.5)\" s:width=\"30\" s:height=\"20\" id=\"cell_$not$/content/code.v:12$6\"><s:alias val=\"$_NOT_\"/><s:alias val=\"$not\"/><s:alias val=\"$logic_not\"/><path d=\"M0,0 L0,20 L20,10 Z\" class=\"cell_$not$/content/code.v:12$6\"/><circle cx=\"24\" cy=\"10\" r=\"3\" class=\"cell_$not$/content/code.v:12$6\"/><g s:x=\"-1\" s:y=\"10\" s:pid=\"A\"/><g s:x=\"27\" s:y=\"10\" s:pid=\"Y\"/></g><g s:type=\"not\" transform=\"translate(232,226.5)\" s:width=\"30\" s:height=\"20\" id=\"cell_$not$/content/code.v:13$8\"><s:alias val=\"$_NOT_\"/><s:alias val=\"$not\"/><s:alias val=\"$logic_not\"/><path d=\"M0,0 L0,20 L20,10 Z\" class=\"cell_$not$/content/code.v:13$8\"/><circle cx=\"24\" cy=\"10\" r=\"3\" class=\"cell_$not$/content/code.v:13$8\"/><g s:x=\"-1\" s:y=\"10\" s:pid=\"A\"/><g s:x=\"27\" s:y=\"10\" s:pid=\"Y\"/></g><g s:type=\"not\" transform=\"translate(232,267.5)\" s:width=\"30\" s:height=\"20\" id=\"cell_$not$/content/code.v:15$11\"><s:alias val=\"$_NOT_\"/><s:alias val=\"$not\"/><s:alias val=\"$logic_not\"/><path d=\"M0,0 L0,20 L20,10 Z\" class=\"cell_$not$/content/code.v:15$11\"/><circle cx=\"24\" cy=\"10\" r=\"3\" class=\"cell_$not$/content/code.v:15$11\"/><g s:x=\"-1\" s:y=\"10\" s:pid=\"A\"/><g s:x=\"27\" s:y=\"10\" s:pid=\"Y\"/></g><g s:type=\"not\" transform=\"translate(232,12)\" s:width=\"30\" s:height=\"20\" id=\"cell_$not$/content/code.v:8$1\"><s:alias val=\"$_NOT_\"/><s:alias val=\"$not\"/><s:alias val=\"$logic_not\"/><path d=\"M0,0 L0,20 L20,10 Z\" class=\"cell_$not$/content/code.v:8$1\"/><circle cx=\"24\" cy=\"10\" r=\"3\" class=\"cell_$not$/content/code.v:8$1\"/><g s:x=\"-1\" s:y=\"10\" s:pid=\"A\"/><g s:x=\"27\" s:y=\"10\" s:pid=\"Y\"/></g><g s:type=\"not\" transform=\"translate(232,67)\" s:width=\"30\" s:height=\"20\" id=\"cell_$not$/content/code.v:9$2\"><s:alias val=\"$_NOT_\"/><s:alias val=\"$not\"/><s:alias val=\"$logic_not\"/><path d=\"M0,0 L0,20 L20,10 Z\" class=\"cell_$not$/content/code.v:9$2\"/><circle cx=\"24\" cy=\"10\" r=\"3\" class=\"cell_$not$/content/code.v:9$2\"/><g s:x=\"-1\" s:y=\"10\" s:pid=\"A\"/><g s:x=\"27\" s:y=\"10\" s:pid=\"Y\"/></g><g s:type=\"or\" transform=\"translate(164,148)\" s:width=\"30\" s:height=\"25\" id=\"cell_$or$/content/code.v:11$4\"><s:alias val=\"$or\"/><s:alias val=\"$logic_or\"/><s:alias val=\"$_OR_\"/><s:alias val=\"$reduce_or\"/><s:alias val=\"$reduce_bool\"/><path d=\"M0,0 A30 25 0 0 1 0,25 A30 25 0 0 0 30,12.5 A30 25 0 0 0 0,0\" class=\"cell_$or$/content/code.v:11$4\"/><g s:x=\"2\" s:y=\"5\" s:pid=\"A\"/><g s:x=\"2\" s:y=\"20\" s:pid=\"B\"/><g s:x=\"30\" s:y=\"12.5\" s:pid=\"Y\"/></g><g s:type=\"reduce_xor\" transform=\"translate(163,244)\" s:width=\"33\" s:height=\"25\" id=\"cell_$xor$/content/code.v:14$9\"><s:alias val=\"$xor\"/><s:alias val=\"$reduce_xor\"/><s:alias val=\"$_XOR_\"/><path d=\"M3,0 A30 25 0 0 1 3,25 A30 25 0 0 0 33,12.5 A30 25 0 0 0 3,0\" class=\"cell_$xor$/content/code.v:14$9\"/><path d=\"M0,0 A30 25 0 0 1 0,25\" class=\"cell_$xor$/content/code.v:14$9\"/><g s:x=\"2\" s:y=\"5\" s:pid=\"A\"/><g s:x=\"2\" s:y=\"20\" s:pid=\"B\"/><g s:x=\"33\" s:y=\"12.5\" s:pid=\"Y\"/></g><g s:type=\"inputExt\" transform=\"translate(12,88)\" s:width=\"30\" s:height=\"20\" id=\"cell_sw\"><text x=\"15\" y=\"-4\" class=\"nodelabel cell_sw\" s:attribute=\"ref\">sw</text><s:alias val=\"$_inputExt_\"/><path d=\"M0,0 L0,20 L15,20 L30,10 L15,0 Z\" class=\"cell_sw\"/><g s:x=\"30\" s:y=\"10\" s:pid=\"Y\"/></g><g s:type=\"outputExt\" transform=\"translate(394,57)\" s:width=\"30\" s:height=\"20\" id=\"cell_led\"><text x=\"15\" y=\"-4\" class=\"nodelabel cell_led\" s:attribute=\"ref\">led</text><s:alias val=\"$_outputExt_\"/><path d=\"M30,0 L30,20 L15,20 L0,10 L15,0 Z\" class=\"cell_led\"/><g s:x=\"0\" s:y=\"10\" s:pid=\"A\"/></g><g s:type=\"join\" transform=\"translate(312,46.5)\" s:width=\"4\" s:height=\"40\" id=\"cell_$join$,4,5,6,7,8,9,10,11,\"><rect width=\"5\" height=\"160\" class=\"splitjoinBody\" s:generic=\"body\"/><s:alias val=\"$_join_\"/><g s:x=\"5\" s:y=\"20\" s:pid=\"out\"/><g transform=\"translate(0,10)\" s:x=\"0\" s:y=\"10\" s:pid=\"in0\"><text x=\"-3\" y=\"-4\" class=\"inputPortLabel\">0</text></g><g transform=\"translate(0,30)\" s:x=\"0\" s:y=\"10\" s:pid=\"in0\"><text x=\"-3\" y=\"-4\" class=\"inputPortLabel\">1</text></g><g transform=\"translate(0,50)\" s:x=\"0\" s:y=\"10\" s:pid=\"in0\"><text x=\"-3\" y=\"-4\" class=\"inputPortLabel\">2</text></g><g transform=\"translate(0,70)\" s:x=\"0\" s:y=\"10\" s:pid=\"in0\"><text x=\"-3\" y=\"-4\" class=\"inputPortLabel\">3</text></g><g transform=\"translate(0,90)\" s:x=\"0\" s:y=\"10\" s:pid=\"in0\"><text x=\"-3\" y=\"-4\" class=\"inputPortLabel\">4</text></g><g transform=\"translate(0,110)\" s:x=\"0\" s:y=\"10\" s:pid=\"in0\"><text x=\"-3\" y=\"-4\" class=\"inputPortLabel\">5</text></g><g transform=\"translate(0,130)\" s:x=\"0\" s:y=\"10\" s:pid=\"in0\"><text x=\"-3\" y=\"-4\" class=\"inputPortLabel\">6</text></g><g transform=\"translate(0,150)\" s:x=\"0\" s:y=\"10\" s:pid=\"in0\"><text x=\"-3\" y=\"-4\" class=\"inputPortLabel\">7</text></g></g><g s:type=\"split\" transform=\"translate(116,77.5)\" s:width=\"5\" s:height=\"40\" id=\"cell_$split$,2,3,\"><rect width=\"5\" height=\"40\" class=\"splitjoinBody\" s:generic=\"body\"/><s:alias val=\"$_split_\"/><g s:x=\"0\" s:y=\"20\" s:pid=\"in\"/><g transform=\"translate(4,10)\" s:x=\"4\" s:y=\"10\" s:pid=\"out0\"><text x=\"5\" y=\"-4\">0</text></g><g transform=\"translate(4,30)\" s:x=\"4\" s:y=\"10\" s:pid=\"out0\"><text x=\"5\" y=\"-4\">1</text></g></g><line x1=\"121\" x2=\"148\" y1=\"88\" y2=\"88\" class=\"net_2 width_1\" style=\"stroke-width: 1\"/><line x1=\"148\" x2=\"148\" y1=\"88\" y2=\"93\" class=\"net_2 width_1\" style=\"stroke-width: 1\"/><circle cx=\"148\" cy=\"88\" r=\"2\" style=\"fill:#000\" class=\"net_2 width_1\"/><circle cx=\"148\" cy=\"93\" r=\"2\" style=\"fill:#000\" class=\"net_2 width_1\"/><line x1=\"148\" x2=\"164\" y1=\"93\" y2=\"93\" class=\"net_2 width_1\" style=\"stroke-width: 1\"/><line x1=\"121\" x2=\"148\" y1=\"88\" y2=\"88\" class=\"net_2 width_1\" style=\"stroke-width: 1\"/><line x1=\"148\" x2=\"148\" y1=\"88\" y2=\"22\" class=\"net_2 width_1\" style=\"stroke-width: 1\"/><line x1=\"148\" x2=\"231\" y1=\"22\" y2=\"22\" class=\"net_2 width_1\" style=\"stroke-width: 1\"/><line x1=\"121\" x2=\"148\" y1=\"88\" y2=\"88\" class=\"net_2 width_1\" style=\"stroke-width: 1\"/><line x1=\"148\" x2=\"148\" y1=\"88\" y2=\"153\" class=\"net_2 width_1\" style=\"stroke-width: 1\"/><circle cx=\"148\" cy=\"153\" r=\"2\" style=\"fill:#000\" class=\"net_2 width_1\"/><line x1=\"148\" x2=\"166\" y1=\"153\" y2=\"153\" class=\"net_2 width_1\" style=\"stroke-width: 1\"/><line x1=\"121\" x2=\"148\" y1=\"88\" y2=\"88\" class=\"net_2 width_1\" style=\"stroke-width: 1\"/><line x1=\"148\" x2=\"148\" y1=\"88\" y2=\"249\" class=\"net_2 width_1\" style=\"stroke-width: 1\"/><line x1=\"148\" x2=\"165\" y1=\"249\" y2=\"249\" class=\"net_2 width_1\" style=\"stroke-width: 1\"/><line x1=\"121\" x2=\"164\" y1=\"108\" y2=\"108\" class=\"net_3 width_1\" style=\"stroke-width: 1\"/><line x1=\"121\" x2=\"138\" y1=\"108\" y2=\"108\" class=\"net_3 width_1\" style=\"stroke-width: 1\"/><line x1=\"138\" x2=\"138\" y1=\"108\" y2=\"77\" class=\"net_3 width_1\" style=\"stroke-width: 1\"/><circle cx=\"138\" cy=\"108\" r=\"2\" style=\"fill:#000\" class=\"net_3 width_1\"/><line x1=\"138\" x2=\"231\" y1=\"77\" y2=\"77\" class=\"net_3 width_1\" style=\"stroke-width: 1\"/><line x1=\"121\" x2=\"138\" y1=\"108\" y2=\"108\" class=\"net_3 width_1\" style=\"stroke-width: 1\"/><line x1=\"138\" x2=\"138\" y1=\"108\" y2=\"168\" class=\"net_3 width_1\" style=\"stroke-width: 1\"/><circle cx=\"138\" cy=\"168\" r=\"2\" style=\"fill:#000\" class=\"net_3 width_1\"/><line x1=\"138\" x2=\"166\" y1=\"168\" y2=\"168\" class=\"net_3 width_1\" style=\"stroke-width: 1\"/><line x1=\"121\" x2=\"138\" y1=\"108\" y2=\"108\" class=\"net_3 width_1\" style=\"stroke-width: 1\"/><line x1=\"138\" x2=\"138\" y1=\"108\" y2=\"264\" class=\"net_3 width_1\" style=\"stroke-width: 1\"/><line x1=\"138\" x2=\"165\" y1=\"264\" y2=\"264\" class=\"net_3 width_1\" style=\"stroke-width: 1\"/><line x1=\"194\" x2=\"216\" y1=\"160.5\" y2=\"160.5\" class=\"net_7 width_1\" style=\"stroke-width: 1\"/><line x1=\"216\" x2=\"216\" y1=\"160.5\" y2=\"181.5\" class=\"net_7 width_1\" style=\"stroke-width: 1\"/><circle cx=\"216\" cy=\"160.5\" r=\"2\" style=\"fill:#000\" class=\"net_7 width_1\"/><line x1=\"216\" x2=\"231\" y1=\"181.5\" y2=\"181.5\" class=\"net_7 width_1\" style=\"stroke-width: 1\"/><line x1=\"194\" x2=\"272\" y1=\"160.5\" y2=\"160.5\" class=\"net_7 width_1\" style=\"stroke-width: 1\"/><line x1=\"272\" x2=\"272\" y1=\"160.5\" y2=\"117\" class=\"net_7 width_1\" style=\"stroke-width: 1\"/><line x1=\"272\" x2=\"312\" y1=\"117\" y2=\"117\" class=\"net_7 width_1\" style=\"stroke-width: 1\"/><line x1=\"194\" x2=\"206\" y1=\"100.5\" y2=\"100.5\" class=\"net_6 width_1\" style=\"stroke-width: 1\"/><line x1=\"206\" x2=\"206\" y1=\"100.5\" y2=\"236.5\" class=\"net_6 width_1\" style=\"stroke-width: 1\"/><circle cx=\"206\" cy=\"100.5\" r=\"2\" style=\"fill:#000\" class=\"net_6 width_1\"/><line x1=\"206\" x2=\"231\" y1=\"236.5\" y2=\"236.5\" class=\"net_6 width_1\" style=\"stroke-width: 1\"/><line x1=\"194\" x2=\"272\" y1=\"100.5\" y2=\"100.5\" class=\"net_6 width_1\" style=\"stroke-width: 1\"/><line x1=\"272\" x2=\"272\" y1=\"100.5\" y2=\"97\" class=\"net_6 width_1\" style=\"stroke-width: 1\"/><line x1=\"272\" x2=\"312\" y1=\"97\" y2=\"97\" class=\"net_6 width_1\" style=\"stroke-width: 1\"/><line x1=\"196\" x2=\"206\" y1=\"256.5\" y2=\"256.5\" class=\"net_10 width_1\" style=\"stroke-width: 1\"/><line x1=\"206\" x2=\"206\" y1=\"256.5\" y2=\"277.5\" class=\"net_10 width_1\" style=\"stroke-width: 1\"/><circle cx=\"206\" cy=\"256.5\" r=\"2\" style=\"fill:#000\" class=\"net_10 width_1\"/><line x1=\"206\" x2=\"231\" y1=\"277.5\" y2=\"277.5\" class=\"net_10 width_1\" style=\"stroke-width: 1\"/><line x1=\"196\" x2=\"302\" y1=\"256.5\" y2=\"256.5\" class=\"net_10 width_1\" style=\"stroke-width: 1\"/><line x1=\"302\" x2=\"302\" y1=\"256.5\" y2=\"177\" class=\"net_10 width_1\" style=\"stroke-width: 1\"/><line x1=\"302\" x2=\"312\" y1=\"177\" y2=\"177\" class=\"net_10 width_1\" style=\"stroke-width: 1\"/><line x1=\"318\" x2=\"394\" y1=\"67\" y2=\"67\" class=\"net_4,5,6,7,8,9,10,11 width_8\" style=\"stroke-width: 2\"/><line x1=\"259\" x2=\"312.5\" y1=\"22\" y2=\"22\" class=\"net_4 width_1\" style=\"stroke-width: 1\"/><line x1=\"312.5\" x2=\"312.5\" y1=\"22\" y2=\"56.5\" class=\"net_4 width_1\" style=\"stroke-width: 1\"/><line x1=\"259\" x2=\"312\" y1=\"77\" y2=\"77\" class=\"net_5 width_1\" style=\"stroke-width: 1\"/><line x1=\"259\" x2=\"282\" y1=\"181.5\" y2=\"181.5\" class=\"net_8 width_1\" style=\"stroke-width: 1\"/><line x1=\"282\" x2=\"282\" y1=\"181.5\" y2=\"137\" class=\"net_8 width_1\" style=\"stroke-width: 1\"/><line x1=\"282\" x2=\"312\" y1=\"137\" y2=\"137\" class=\"net_8 width_1\" style=\"stroke-width: 1\"/><line x1=\"259\" x2=\"292\" y1=\"236.5\" y2=\"236.5\" class=\"net_9 width_1\" style=\"stroke-width: 1\"/><line x1=\"292\" x2=\"292\" y1=\"236.5\" y2=\"157\" class=\"net_9 width_1\" style=\"stroke-width: 1\"/><line x1=\"292\" x2=\"312\" y1=\"157\" y2=\"157\" class=\"net_9 width_1\" style=\"stroke-width: 1\"/><line x1=\"259\" x2=\"312.5\" y1=\"277.5\" y2=\"277.5\" class=\"net_11 width_1\" style=\"stroke-width: 1\"/><line x1=\"312.5\" x2=\"312.5\" y1=\"277.5\" y2=\"197.5\" class=\"net_11 width_1\" style=\"stroke-width: 1\"/><line x1=\"42\" x2=\"116\" y1=\"98\" y2=\"98\" class=\"net_2,3 width_2\" style=\"stroke-width: 2\"/><rect x=\"356\" y=\"62\" width=\"16\" height=\"9\" class=\"net_4,5,6,7,8,9,10,11 width_8 busLabel_8\" style=\"fill: white; stroke: none\"/><text x=\"355\" y=\"70\" class=\"net_4,5,6,7,8,9,10,11 width_8 busLabel_8\">/8/</text><rect x=\"78\" y=\"93\" width=\"16\" height=\"9\" class=\"net_2,3 width_2 busLabel_2\" style=\"fill: white; stroke: none\"/><text x=\"77\" y=\"101\" class=\"net_2,3 width_2 busLabel_2\">/2/</text></svg>"
          },
          "metadata": {}
        }
      ]
    },
    {
      "cell_type": "markdown",
      "source": [
        "#tb.v\n",
        "Testbench\n"
      ],
      "metadata": {
        "id": "fIZ23ZxZxFyg"
      }
    },
    {
      "cell_type": "code",
      "source": [
        "%%verilog\n",
        "//\n",
        "module logic_gate(\n",
        "input [1:0]sw, // 2-bit input (sw[1], sw[0]), use 1 bit only\n",
        "output [7:0]led // 8-bit output (led[7:0]), use 1 bit only\n",
        ");\n",
        "// Logic gate implementations\n",
        "assign led[0] = ~sw[0]; // NOT A\n",
        "assign led[1] = ~sw[1]; // NOT B\n",
        "assign led[2] = sw[0] & sw[1]; // A AND B\n",
        "assign led[3] = sw[0] | sw[1]; // A OR B\n",
        "assign led[4] = ~(sw[0] | sw[1]); // A NOR B\n",
        "assign led[5] = ~(sw[0] & sw[1]); // A NAND B\n",
        "assign led[6] = sw[0] ^ sw[1]; // A XOR B\n",
        "assign led[7] = ~(sw[0] ^ sw[1]); // A XNOR B\n",
        "\n",
        "endmodule\n",
        "//\n",
        "\n",
        "//\n",
        "module tb;\n",
        "    reg [1:0]sw;\n",
        "    wire [7:0]led;\n",
        "\n",
        "    logic_gate uut (sw, led);\n",
        "\n",
        "initial begin\n",
        "    $dumpfile(\"tb.vcd\");\n",
        "    $dumpvars(0,tb);\n",
        "\n",
        "        sw[0] =  1'b0;\n",
        "        sw[1] = 1'b0;\n",
        "        #2\n",
        "        sw[0] = 1'b1;\n",
        "        #2\n",
        "        sw[0] = 1'b0;\n",
        "        sw[1] = 1'b1;\n",
        "        #2\n",
        "        sw[0] = 1'b1;\n",
        "        #2 $finish;\n",
        "\n",
        "    $dumpoff;\n",
        "end\n",
        "\n",
        "endmodule\n",
        "//"
      ],
      "metadata": {
        "id": "8qFAvgcUxMWm",
        "outputId": "4cc135d9-69c3-4eeb-9336-719f3c7d7314",
        "colab": {
          "base_uri": "https://localhost:8080/"
        }
      },
      "execution_count": 14,
      "outputs": [
        {
          "output_type": "stream",
          "name": "stdout",
          "text": [
            "VCD info: dumpfile tb.vcd opened for output.\n",
            "\n"
          ]
        }
      ]
    },
    {
      "cell_type": "code",
      "source": [
        "%%waveform tb.vcd\n",
        "sign_list = ['tb.sw','tb.led']\n",
        "time_begin = 0\n",
        "time_end = 8\n",
        "base = 'bin' # bin, dec, dec2, hex, octal"
      ],
      "metadata": {
        "id": "vwhgETDixYnl",
        "outputId": "72e32fb9-a92f-467a-88f3-1375f66dd9a3",
        "colab": {
          "base_uri": "https://localhost:8080/",
          "height": 291
        }
      },
      "execution_count": 15,
      "outputs": [
        {
          "output_type": "display_data",
          "data": {
            "text/plain": [
              "<Figure size 900x300 with 1 Axes>"
            ],
            "image/png": "[encoded data removed]"
          },
          "metadata": {}
        }
      ]
    },
    {
      "cell_type": "markdown",
      "source": [
        "#Video Showcase"
      ],
      "metadata": {
        "id": "8taZDg7K2k5E"
      }
    },
    {
      "cell_type": "markdown",
      "source": [
        "\n",
        "![SW00](https://github.com/pe8sutd/Colab_DSL_Practice25/blob/main/figure/T01_sw00.jpg?raw=1)"
      ],
      "metadata": {
        "id": "OEAA9QGd2nYj"
      }
    },
    {
      "cell_type": "markdown",
      "source": [
        "# Demo"
      ],
      "metadata": {
        "id": "ry2RShl0zumm"
      }
    },
    {
      "cell_type": "markdown",
      "source": [
        "Show the LEDs updating in real-time as switches `sw[0]` and `sw[1]` toggle.\n",
        "\n",
        "### SW[1:0] = 2'b00\n",
        "![SW00](https://github.com/pe8sutd/Colab_DSL_Practice25/blob/main/figure/T01_sw00.jpg?raw=1)\n",
        "\n",
        "### SW[1:0] = 2'b01\n",
        "![SW01](https://github.com/pe8sutd/Colab_DSL_Practice25/blob/main/figure/T01_sw01.jpg?raw=1)\n",
        "\n",
        "### SW[1:0] = 2'b10\n",
        "![SW10](https://github.com/pe8sutd/Colab_DSL_Practice25/blob/main/figure/T01_sw10.jpg?raw=1)\n",
        "\n",
        "### SW[1:0] = 2'b11\n",
        "![SW11](https://github.com/pe8sutd/Colab_DSL_Practice25/blob/main/figure/T01_sw11.jpg?raw=1)"
      ],
      "metadata": {
        "id": "zNCb9Nu2zicX"
      }
    }
  ],
  "metadata": {
    "colab": {
      "provenance": [],
      "include_colab_link": true
    },
    "language_info": {
      "name": "python"
    },
    "kernelspec": {
      "name": "python3",
      "display_name": "Python 3"
    }
  },
  "nbformat": 4,
  "nbformat_minor": 0
}