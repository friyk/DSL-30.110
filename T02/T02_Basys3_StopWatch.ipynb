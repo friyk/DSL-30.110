{
  "cells": [
    {
      "cell_type": "markdown",
      "metadata": {
        "id": "view-in-github",
        "colab_type": "text"
      },
      "source": [
        "<a href=\"https://colab.research.google.com/github/friyk/DSL-30.110/blob/main/T02/T02_Basys3_StopWatch.ipynb\" target=\"_parent\"><img src=\"https://colab.research.google.com/assets/colab-badge.svg\" alt=\"Open In Colab\"/></a>"
      ]
    },
    {
      "cell_type": "markdown",
      "metadata": {
        "id": "AGI9dTkyvqHU"
      },
      "source": [
        "# T02: Stopwatch on Basys 3"
      ]
    },
    {
      "cell_type": "markdown",
      "metadata": {
        "id": "bYIxOAWQI-8S"
      },
      "source": [
        "|Group members|Student ID|\n",
        "|---|---|\n",
        "|Chua Kevin Subong|1007002|\n",
        "|Kaung Khant Htet|1003437|\n",
        "|Ng Au Hern Wesley|1006888|\n",
        "|Pan Ziyue|1006658|\n",
        "|Shum Hei Lam|1009861|"
      ]
    },
    {
      "cell_type": "markdown",
      "metadata": {
        "id": "b0Ci1rh4wr46"
      },
      "source": [
        "## Objective:"
      ]
    },
    {
      "cell_type": "markdown",
      "metadata": {
        "id": "yn8KcwRHvvOR"
      },
      "source": [
        "\n",
        "Design and implement a **stopwatch** on the **Basys 3 FPGA** board using Verilog, making use of the **4-digit** **7-segment** display LEDs for time display. The stopwatch should have the following features:  \n",
        "1. **Reset functionality**: Press a button (e.g., `btnR`) to restart the stopwatch.  \n",
        "2. **Time Display**: Display the elapsed time in minutes and seconds on the 4-digit 7-segment display.  \n",
        "3. **Update Frequency**: Update the display at a reasonable frequency (e.g., every 1 second)."
      ]
    },
    {
      "cell_type": "markdown",
      "metadata": {
        "id": "a-Hza8S3v7iq"
      },
      "source": [
        "## Instructions  "
      ]
    },
    {
      "cell_type": "markdown",
      "metadata": {
        "id": "gIDg0xLWwez7"
      },
      "source": [
        "### FPGA Project  \n",
        "1. Create a new Vivado project for the Basys 3 FPGA board.  \n",
        "2. Write Verilog code to implement the stopwatch logic.  \n",
        "3. Map the Verilog design to the Basys 3 board's resources via the basys3 [constraint file](./Demo_Code/basys3_template.xdc) (`.xdc`).   \n",
        "4. Generate the bitstream file.\n",
        "5. Program the FPGA board with the bitstream.  \n",
        "6. Test and debug your stopwatch design on the FPGA board to ensure correct functionality.  \n",
        "7. Document your design, including the Verilog code, functional diagrams, and challenges faced during implementation.  \n",
        "8. **Demo Vivado Project**: [T02_Basys3_StopWatch](./Demo_Code/T02_Basys3_StopWatch)"
      ]
    },
    {
      "cell_type": "markdown",
      "metadata": {
        "id": "UgHn-w67xBOZ"
      },
      "source": [
        "## Simulation"
      ]
    },
    {
      "cell_type": "markdown",
      "metadata": {
        "id": "30dd_HiTwLPy"
      },
      "source": [
        "\n",
        "- [Verify functionality using testbenches and waveform analysis.](Simulation/simT02_Basys3_StopWatch_SSD.ipynb)  \n",
        "\n",
        "\n"
      ]
    },
    {
      "cell_type": "markdown",
      "metadata": {
        "id": "n97dFqn8xeqq"
      },
      "source": [
        "### Additional Challenge (*Optional*):"
      ]
    },
    {
      "cell_type": "markdown",
      "metadata": {
        "id": "Fjny3JVQxUkh"
      },
      "source": [
        "  \n",
        "Add features like **pause/resume functionality** to the stopwatch design.  "
      ]
    },
    {
      "cell_type": "markdown",
      "metadata": {
        "id": "d9fXRE2Dw4sa"
      },
      "source": [
        "## Submission:"
      ]
    },
    {
      "cell_type": "markdown",
      "metadata": {
        "id": "Mz7jZ0eQ1Otu"
      },
      "source": [
        "\n",
        "*This is a group work. Only one member needs to submit the materials.*  \n",
        "1. A self-contained `ipynb` file which:  \n",
        "   - **Google Colab link** and **GitHub link**.  \n",
        "   - **Verilog codes** (module, testbench, waveform, AI prompt, etc.).  \n",
        "   - A **brief report** documenting the design, Python code (e.g., logic expressions, AI-generated code), challenges, and lessons learned;\n",
        "2. A **demonstration video** (less than 1 minute, `.mp4` format).\n",
        "* Submit to **edimension** and share with instructor GitHub: `pe8sutd`, `pe8sutd@gmail.com`.  \n",
        "3. The report should report how AI is used in the design (if applicable). The guideline: [![Open in Colab](https://colab.research.google.com/assets/colab-badge.svg)](https://github.com/pe8sutd/Colab_DSL_Practice25/blob/main/G01_Used_of_AI_in_Design.ipynb)\n",
        "\n",
        "\n",
        "---\n",
        "\n",
        "### Deadline:  \n",
        "Refer to the due date in the **edimension submission folder**.  \n",
        "\n",
        "---\n",
        "\n",
        "### Grading:  \n",
        "Based on:  \n",
        "- Functionality of the stopwatch.  \n",
        "- Clarity of Verilog code.  \n",
        "- Quality of documentation.  \n",
        "*Bonus points for additional features or creative implementations.*  \n",
        "\n",
        "---\n",
        "\n"
      ]
    },
    {
      "cell_type": "markdown",
      "metadata": {
        "id": "6812PdUV1SyA"
      },
      "source": [
        "## Demo Video  \n"
      ]
    },
    {
      "cell_type": "markdown",
      "metadata": {
        "id": "Jp3ActGh1X8n"
      },
      "source": [
        "The following video below shows the stopwatch’s functionality on the Basys 3 board.\n",
        "\n",
        "https://www.youtube.com/watch?v=eFecL3ZtbN0"
      ]
    },
    {
      "cell_type": "code",
      "execution_count": null,
      "metadata": {
        "colab": {
          "base_uri": "https://localhost:8080/",
          "height": 321
        },
        "id": "wFr5MdqAENL1",
        "outputId": "f9f1a3a3-78e7-4b44-dc4f-8340c74ea3bc"
      },
      "outputs": [
        {
          "output_type": "execute_result",
          "data": {
            "text/plain": [
              "<IPython.lib.display.YouTubeVideo at 0x7b005c68cd10>"
            ],
            "text/html": [
              "\n",
              "        <iframe\n",
              "            width=\"400\"\n",
              "            height=\"300\"\n",
              "            src=\"https://www.youtube.com/embed/eFecL3ZtbN0\"\n",
              "            frameborder=\"0\"\n",
              "            allowfullscreen\n",
              "            \n",
              "        ></iframe>\n",
              "        "
            ],
            "image/jpeg": "[encoded data removed]"
          },
          "metadata": {},
          "execution_count": 1
        }
      ],
      "source": [
        "from IPython.display import YouTubeVideo\n",
        "YouTubeVideo('eFecL3ZtbN0')"
      ]
    },
    {
      "cell_type": "markdown",
      "metadata": {
        "id": "x6Euy-bSENL2"
      },
      "source": [
        "## Design Report\n",
        "\n",
        "Key features\n",
        "\n",
        "- Reset button to restart the counter, but not start/stop it\n",
        "- Start/Stop button to be able to resume/pause the timing.\n",
        "- The timer counter itself is internally run at 1KHz, and is 32 bits wide, so 32'h00000001 is equivalent to 1 milisecond\n",
        "- Time display module converts internal timer counter (miliseconds) into minutes and seconds for display\n",
        "\n",
        "We have to develop the following modules for stopwatch to function correctly\n",
        "\n",
        "- `debounce` Button conditioner: debounce button inputs\n",
        "- `ssd` 7 Segment Driver: to drive the 7 segment display using BCD. This is already provided by lesson materials\n",
        "- `clk_100M_to_1k` 100MHz to 1kHz Clock divider: to produce the 1ms period clock used to drive the internal stopwatch counter\n",
        "- `tff` T-flip flop (TFF): to allow pausing the stopwatch by a single button press, connected to a multiplexor\n",
        "- `ms_to_s` 32-bit ms to 16-bit seconds divider: this produces the raw number of seconds elapsed\n",
        "- `s_to_mmss` 16-bit s to mm:ss divider: this produces the numerical outputs for minutes and seconds, which can then be encoded to BCD\n",
        "- `min_to_bcd` 16-bit minutes to 2x4-bit BCD\n",
        "- `sec_to_bcd` 16-bit seconds to 2x4-bit BCD\n",
        "\n",
        "The inputs to our stopwatch is specified as follows:\n",
        "\n",
        "- btnC: The centre button on the Basys 3 board, which starts/stops the stopwatch\n",
        "- btcU: The up button on the Basys3 board, which resets the stopwatch"
      ]
    },
    {
      "cell_type": "markdown",
      "source": [
        "##Block Diagram![Block Diagram.png](data:image/png;base64,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)"
      ],
      "metadata": {
        "id": "Vt_6qJvHOLVu"
      }
    },
    {
      "cell_type": "markdown",
      "source": [
        "  ## **Verilog Code**\n"
      ],
      "metadata": {
        "id": "EBe4bk5lF3hG"
      }
    },
    {
      "cell_type": "markdown",
      "source": [
        "  ### top_module"
      ],
      "metadata": {
        "id": "_JVt52zWGBLI"
      }
    },
    {
      "cell_type": "code",
      "source": [
        "`timescale 1ns / 1ps\n",
        "\n",
        "module top_module(\n",
        "    input clk,          // 100MHz master clock\n",
        "    input btnC,         // centre button, used for start/stop\n",
        "    input btnU,         // up button, used for stopwatch reset\n",
        "    input btnR,         // right button, used for master reset\n",
        "\n",
        "    output [6:0]seg,    // 7 segment display\n",
        "    output dp,          // 7 segment display decimal point\n",
        "    output [3:0]an      // 7 segment anode\n",
        "    );\n",
        "\n",
        "    assign dp=1;\n",
        "\n",
        "    // Debounced buttons\n",
        "    wire startstop_btn, stopwatch_rst_btn;\n",
        "    debounce(clk, btnR, btnC, startstop_btn);\n",
        "    debounce(clk, btnR, btnU, stopwatch_rst_btn);\n",
        "\n",
        "    // 500hz clock for driving the display\n",
        "    wire clk500hz;\n",
        "    clk_500hz(clk500hz, clk, stopwatch_rst_btn);\n",
        "\n",
        "    // TFF to stop the clock\n",
        "    wire clock_stopper_mux;\n",
        "    tff(clk500hz, startstop_btn, clock_stopper_mux);\n",
        "\n",
        "    // Master clock to 1kHz downconverter, and multiplexor to switch it\n",
        "    wire clk1khz, clk1khz_switched;\n",
        "    clk_100M_to_1k(clk, stopwatch_rst_btn, clk1khz);\n",
        "    assign clk1khz_switched = clock_stopper_mux ? 0 : clk1khz;\n",
        "\n",
        "    // Master miliseconds counter\n",
        "    wire [31:0] miliseconds;\n",
        "    ms_counter(stopwatch_rst_btn, clk1khz_switched, miliseconds);\n",
        "\n",
        "    // Divide ms to s\n",
        "    wire [15:0] seconds;\n",
        "    ms_to_s(miliseconds, seconds);\n",
        "\n",
        "    // Separate seconds into minutes and seconds\n",
        "    wire [15:0] mm, ss;\n",
        "    s_to_mmss(seconds, clk, mm, ss);\n",
        "\n",
        "    // Convert mm and ss into BCD\n",
        "    wire [3:0] minute_tens, minute_ones, second_tens, second_ones;\n",
        "    min_to_bcd(mm, minute_ones, minute_tens);\n",
        "    sec_to_bcd(ss, second_ones, second_tens);\n",
        "\n",
        "    // Seven segment display\n",
        "    ssd(~stopwatch_rst_btn, clk500hz, minute_tens, minute_ones, second_tens, second_ones, an, seg);\n",
        "\n",
        "endmodule"
      ],
      "metadata": {
        "id": "yRWOcFh8KXyz"
      },
      "execution_count": null,
      "outputs": []
    },
    {
      "cell_type": "markdown",
      "source": [
        "###100Mhz to 1kHz Clock"
      ],
      "metadata": {
        "id": "F8R_18vcGSI5"
      }
    },
    {
      "cell_type": "code",
      "source": [
        "`timescale 1ns / 1ps\n",
        "\n",
        "module clk_100M_to_1k(\n",
        "    input clk_100M,     // Input clock from the FPGA's master clock\n",
        "    input rst,          // Active high reset\n",
        "    output reg clk_1k   // Output clock\n",
        "    );\n",
        "\n",
        "    reg [16:0] counter;\n",
        "\n",
        "    initial clk_1k = 0;\n",
        "    initial counter = 0;\n",
        "\n",
        "    always @(posedge rst, posedge clk_100M) begin\n",
        "        if (rst) begin\n",
        "            counter <= 0;\n",
        "            clk_1k <= 0;\n",
        "        end\n",
        "        else begin\n",
        "            if (counter == 17'd50000) begin // For actual d100000/2=d50000, after this number of clock cycles the 1kHz clock transitions\n",
        "//            if (counter == 17'd9) begin // For testbench purposes\n",
        "                counter <= 0;\n",
        "                clk_1k <= ~clk_1k;\n",
        "            end else\n",
        "                counter <= counter + 1;\n",
        "        end\n",
        "    end\n",
        "endmodule"
      ],
      "metadata": {
        "id": "HBSvtivMKSWh"
      },
      "execution_count": null,
      "outputs": []
    },
    {
      "cell_type": "markdown",
      "source": [
        "### Debounce module for button\n",
        "\n",
        "To generate a single pulse with a period of the slow clock without bouncing"
      ],
      "metadata": {
        "id": "GG16JzaHKepr"
      }
    },
    {
      "cell_type": "code",
      "source": [
        "`timescale 1ns / 1ps\n",
        "\n",
        "module debounce (\n",
        "    input wire clk,        // System clock (e.g., 100 MHz on Basys 3)\n",
        "    input wire reset,      // Reset signal\n",
        "    input wire button_in,  // Raw button input\n",
        "    output reg button_out  // Debounced button output\n",
        ");\n",
        "\n",
        "    reg [19:0] count;      // 20-bit counter for debouncing\n",
        "    reg button_prev;        // Previous state of the button\n",
        "\n",
        "    always @(posedge clk or posedge reset) begin\n",
        "        // Reset counter and button statuses if reset pin asserted\n",
        "        if (reset) begin\n",
        "            count <= 20'b0;\n",
        "            button_prev <= 1'b0;\n",
        "            button_out <= 1'b0;\n",
        "        end else begin\n",
        "            button_prev <= button_in;\n",
        "            // Set counter to 0 when button state changes\n",
        "            if (button_prev != button_in) begin\n",
        "                count <= 20'b0;\n",
        "            // If counter hits maximum, set button output to previous button state\n",
        "            end else if (count == 20'h0000F) begin\n",
        "                button_out <= button_prev;\n",
        "            // Increment counter\n",
        "            end else begin\n",
        "                count <= count + 1;\n",
        "            end\n",
        "        end\n",
        "    end\n",
        "\n",
        "endmodule"
      ],
      "metadata": {
        "id": "4wEfrhWiKxfU"
      },
      "execution_count": null,
      "outputs": []
    },
    {
      "cell_type": "markdown",
      "source": [
        "### T Flip Flop\n",
        "\n",
        "used to intercept an already debounced button press and toggle a state between 0 and 1. Effectively a D flip flop with inverted output shorted to input"
      ],
      "metadata": {
        "id": "KJzfcsQVKzYu"
      }
    },
    {
      "cell_type": "code",
      "source": [
        "`timescale 1ns / 1ps\n",
        "\n",
        "module tff(\n",
        "    input clk,\n",
        "    input t,\n",
        "    output reg q\n",
        "    );\n",
        "\n",
        "    initial q = 0;\n",
        "\n",
        "    always @ (posedge clk) begin\n",
        "        q <= (t ? ~q : q);\n",
        "    end\n",
        "\n",
        "endmodule"
      ],
      "metadata": {
        "id": "2Z_8QWdGK1O2"
      },
      "execution_count": null,
      "outputs": []
    },
    {
      "cell_type": "markdown",
      "source": [
        "### Milliseconds Counter"
      ],
      "metadata": {
        "id": "mOt9FuhQK7GN"
      }
    },
    {
      "cell_type": "code",
      "source": [
        "`timescale 1ns / 1ps\n",
        "\n",
        "module ms_counter(\n",
        "    input rst,\n",
        "    input clk,\n",
        "    output reg [31:0] out\n",
        "    );\n",
        "\n",
        "    initial out = 0;\n",
        "\n",
        "    // Synchronous reset\n",
        "    always @(posedge clk or posedge rst) begin\n",
        "        if (rst)\n",
        "            out <= 0;\n",
        "        else\n",
        "            out <= out + 1;\n",
        "    end\n",
        "\n",
        "endmodule"
      ],
      "metadata": {
        "id": "5iX5BXe4LF3a"
      },
      "execution_count": null,
      "outputs": []
    },
    {
      "cell_type": "markdown",
      "source": [
        "### Milliseconds to seconds"
      ],
      "metadata": {
        "id": "yuoPuL1nLHu9"
      }
    },
    {
      "cell_type": "code",
      "source": [
        "`timescale 1ns / 1ps\n",
        "\n",
        "// Refer to this link https://web.archive.org/web/20180517023231/http://www.hackersdelight.org/divcMore.pdf\n",
        "// For how to do a divide by 1000! Although it's in C, it avoids using any complex operations like multiply and divide\n",
        "\n",
        "module ms_to_s(\n",
        "    input [32:0]ms,\n",
        "    output [15:0]s\n",
        "    );\n",
        "\n",
        "    assign s = ms / 1000;\n",
        "\n",
        "endmodule"
      ],
      "metadata": {
        "id": "iyKKTjXxLSA1"
      },
      "execution_count": null,
      "outputs": []
    },
    {
      "cell_type": "markdown",
      "source": [
        "### Seconds to minutes and seconds (mm:ss)"
      ],
      "metadata": {
        "id": "WJBPjxqqLT9S"
      }
    },
    {
      "cell_type": "code",
      "source": [
        "`timescale 1ns / 1ps\n",
        "\n",
        "module s_to_mmss(\n",
        "    input [15:0] s,\n",
        "    input clk,          // This device relies on the master 100MHz clock to perform simple division\n",
        "    output reg [15:0] mm,\n",
        "    output reg [15:0] ss\n",
        "    );\n",
        "\n",
        "//    assign mm = s / 60;\n",
        "//    assign ss = s % 60;\n",
        "\n",
        "    // We use simple primary school style division, keep subtracting until we cannot subtract anymore and we get our quotient and remainder :)\n",
        "\n",
        "    reg [2:0]state;\n",
        "    reg signed [16:0]quotient;\n",
        "    reg signed [16:0]remainder;\n",
        "    reg signed [16:0]temp;\n",
        "\n",
        "    initial quotient = 0;\n",
        "    initial remainder = 0;\n",
        "    initial state = 0;\n",
        "    initial temp = 0;\n",
        "    initial mm = 0;\n",
        "    initial ss = 0;\n",
        "\n",
        "\n",
        "    always @(posedge clk) begin\n",
        "        // Load from inputs\n",
        "        if (state == 0) begin\n",
        "            // Load seconds into the temp register\n",
        "            temp <= s;\n",
        "\n",
        "            // Reset quotient and remainders\n",
        "            quotient <= 0;\n",
        "            remainder <= 0;\n",
        "\n",
        "            // Preserve output register values\n",
        "            mm <= mm;\n",
        "            ss <= ss;\n",
        "\n",
        "            // Transition to state 0 (calculating state 1)\n",
        "            state <= 1;\n",
        "        end\n",
        "\n",
        "        else if (state == 1) begin\n",
        "            // Save temp to register, before trying to calculate quotient\n",
        "            remainder <= temp;\n",
        "\n",
        "            state <= 2;\n",
        "        end\n",
        "\n",
        "        else if (state == 2) begin\n",
        "            temp <= temp - 60; // Perform division by subtracting 60 repeatedly\n",
        "\n",
        "            state <= 3;\n",
        "        end\n",
        "\n",
        "        else if (state == 3) begin\n",
        "            if (temp < 0) begin\n",
        "                // Ignore the result, we've reached minimum, preserve quotient and save results to output regs\n",
        "                quotient <= quotient;\n",
        "                remainder <= remainder;\n",
        "                state <= 4;\n",
        "            end else begin\n",
        "                // Continue subtracting\n",
        "                quotient <= quotient + 1;\n",
        "                remainder <= remainder;\n",
        "                state <= 1;\n",
        "            end\n",
        "        end\n",
        "\n",
        "        // Save data, and go back to the beginning\n",
        "        else begin\n",
        "            mm <= quotient;\n",
        "            ss <= remainder;\n",
        "\n",
        "            state <= 0;\n",
        "        end\n",
        "\n",
        "    end\n",
        "\n",
        "endmodule"
      ],
      "metadata": {
        "id": "5CiUupTbLZyT"
      },
      "execution_count": null,
      "outputs": []
    },
    {
      "cell_type": "markdown",
      "source": [
        "### Seconds to BCD"
      ],
      "metadata": {
        "id": "by3E6cDLLk_C"
      }
    },
    {
      "cell_type": "code",
      "source": [
        "`timescale 1ns / 1ps\n",
        "\n",
        "module sec_to_bcd(\n",
        "    input  [15:0] ss,       // seconds (0–59)\n",
        "    output [3:0] bcd_0,     // Ones place (0–9)\n",
        "    output [3:0] bcd_1      // Tens place (0–5)\n",
        ");\n",
        "\n",
        "    assign bcd_1 = ss / 10;   // Tens digit\n",
        "    assign bcd_0 = ss % 10;   // Ones digit\n",
        "\n",
        "endmodule"
      ],
      "metadata": {
        "id": "OtJhMMxkLmhP"
      },
      "execution_count": null,
      "outputs": []
    },
    {
      "cell_type": "markdown",
      "source": [
        "###Minutes to BCD"
      ],
      "metadata": {
        "id": "9ynavfZULnjz"
      }
    },
    {
      "cell_type": "code",
      "source": [
        "`timescale 1ns / 1ps\n",
        "\n",
        "module min_to_bcd(\n",
        "    input  [15:0] mm,\n",
        "    output [3:0] bcd_0,\n",
        "    output [3:0] bcd_1\n",
        ");\n",
        "\n",
        "    assign bcd_0 = mm % 10;    // Ones place\n",
        "    assign bcd_1 = mm / 10;    // Tens place\n",
        "\n",
        "endmodule"
      ],
      "metadata": {
        "id": "SiKvndF0LpKO"
      },
      "execution_count": null,
      "outputs": []
    },
    {
      "cell_type": "markdown",
      "source": [
        "### Seven segment display"
      ],
      "metadata": {
        "id": "GPIcBmPbLuep"
      }
    },
    {
      "cell_type": "code",
      "source": [
        "`timescale 1ns / 1ps\n",
        "\n",
        "module ssd(\n",
        "    input           rstn_i,\n",
        "    input           clk_500hz,\n",
        "    input   [3:0]   num3_i,\n",
        "    input   [3:0]   num2_i,\n",
        "    input   [3:0]   num1_i,\n",
        "    input   [3:0]   num0_i,\n",
        "    output  [3:0]   an_o,\n",
        "    output  [7:0]   seg_o\n",
        ");\n",
        "\n",
        "reg [7:0] segment_r;\n",
        "reg [3:0] cur_num_r;\n",
        "reg [3:0] an_r;\n",
        "\n",
        "initial an_r = 0;\n",
        "initial segment_r = 0;\n",
        "\n",
        "assign an_o = ~an_r;       // Anode outputs are inverted\n",
        "assign seg_o = segment_r;  // Segment outputs are not inverted\n",
        "\n",
        "// Anode rotation logic, upon every CLK the anode has to be rotated to the next digit\n",
        "always @(negedge rstn_i, posedge clk_500hz) begin\n",
        "    if (!rstn_i) an_r <= 4'b0000;\n",
        "    else case (an_r)\n",
        "        4'b0001: an_r <= 4'b0010;  // DIG3\n",
        "        4'b0010: an_r <= 4'b0100;  // DIG2\n",
        "        4'b0100: an_r <= 4'b1000;  // DIG1\n",
        "        default: an_r <= 4'b0001;  // DIG4 (including reset state)\n",
        "    endcase\n",
        "end\n",
        "\n",
        "// Mux to wire up the correct digit segments based on the current anode\n",
        "always @(*) begin\n",
        "    case (an_r)\n",
        "        4'b0001: cur_num_r = num0_i;  // DIG4 (LSB)\n",
        "        4'b0010: cur_num_r = num1_i;  // DIG3\n",
        "        4'b0100: cur_num_r = num2_i;  // DIG2\n",
        "        4'b1000: cur_num_r = num3_i;  // DIG1 (MSB)\n",
        "        default: cur_num_r = 4'b0;    // All off\n",
        "    endcase\n",
        "end\n",
        "\n",
        "// Decode number into 7-segment codes\n",
        "always @(*) begin\n",
        "    case (cur_num_r)\n",
        "        4'h0: segment_r = 8'hC0;  // 0\n",
        "        4'h1: segment_r = 8'hF9;  // 1\n",
        "        4'h2: segment_r = 8'hA4;  // 2\n",
        "        4'h3: segment_r = 8'hB0;  // 3\n",
        "        4'h4: segment_r = 8'h99;  // 4\n",
        "        4'h5: segment_r = 8'h92;  // 5\n",
        "        4'h6: segment_r = 8'h82;  // 6\n",
        "        4'h7: segment_r = 8'hF8;  // 7\n",
        "        4'h8: segment_r = 8'h80;  // 8\n",
        "        4'h9: segment_r = 8'h90;  // 9\n",
        "        default: segment_r = 8'hFF; // Off\n",
        "    endcase\n",
        "end\n",
        "\n",
        "endmodule\n",
        "\n",
        "\n",
        "// Provides a 500Hz resettable clock from the 100MHz system clock by decimal division\n",
        "module clk_500hz(\n",
        "    output reg clk_out,\n",
        "    input clk_in, reset\n",
        ");\n",
        "    reg[17:0]count;\n",
        "\n",
        "    always@(posedge clk_in) begin\n",
        "        if (reset)\n",
        "            count <= 18'h000000;\n",
        "        else if (count==18'h30D40) begin\n",
        "            clk_out <= 1'b1; count <= 18'h000000;\n",
        "        end else begin\n",
        "            count <= count + 1'b1;\n",
        "            clk_out <=1'b0;\n",
        "        end\n",
        "    end\n",
        "endmodule"
      ],
      "metadata": {
        "id": "6VsMOt4PLzPt"
      },
      "execution_count": null,
      "outputs": []
    }
  ],
  "metadata": {
    "colab": {
      "provenance": [],
      "toc_visible": true,
      "include_colab_link": true
    },
    "language_info": {
      "name": "python"
    },
    "kernelspec": {
      "name": "python3",
      "display_name": "Python 3"
    }
  },
  "nbformat": 4,
  "nbformat_minor": 0
}