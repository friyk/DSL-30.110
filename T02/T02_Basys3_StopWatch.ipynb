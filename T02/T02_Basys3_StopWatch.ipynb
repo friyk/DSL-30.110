{
  "cells": [
    {
      "cell_type": "markdown",
      "metadata": {
        "id": "view-in-github",
        "colab_type": "text"
      },
      "source": [
        "<a href=\"https://colab.research.google.com/github/friyk/DSL-30.110/blob/main/T02/T02_Basys3_StopWatch.ipynb\" target=\"_parent\"><img src=\"https://colab.research.google.com/assets/colab-badge.svg\" alt=\"Open In Colab\"/></a>"
      ]
    },
    {
      "cell_type": "markdown",
      "metadata": {
        "id": "AGI9dTkyvqHU"
      },
      "source": [
        "# T02: Stopwatch on Basys 3"
      ]
    },
    {
      "cell_type": "markdown",
      "metadata": {
        "id": "bYIxOAWQI-8S"
      },
      "source": [
        "|Group members|Student ID|\n",
        "|---|---|\n",
        "|Chua Kevin Subong|1007002|\n",
        "|Kaung Khant Htet|1003437|\n",
        "|Ng Au Hern Wesley|1006888|\n",
        "|Pan Ziyue|1006658|\n",
        "|Shum Hei Lam|1009861|"
      ]
    },
    {
      "cell_type": "markdown",
      "metadata": {
        "id": "b0Ci1rh4wr46"
      },
      "source": [
        "## Objective:"
      ]
    },
    {
      "cell_type": "markdown",
      "metadata": {
        "id": "yn8KcwRHvvOR"
      },
      "source": [
        "\n",
        "Design and implement a **stopwatch** on the **Basys 3 FPGA** board using Verilog, making use of the **4-digit** **7-segment** display LEDs for time display. The stopwatch should have the following features:  \n",
        "1. **Reset functionality**: Press a button (e.g., `btnR`) to restart the stopwatch.  \n",
        "2. **Time Display**: Display the elapsed time in minutes and seconds on the 4-digit 7-segment display.  \n",
        "3. **Update Frequency**: Update the display at a reasonable frequency (e.g., every 1 second)."
      ]
    },
    {
      "cell_type": "markdown",
      "metadata": {
        "id": "a-Hza8S3v7iq"
      },
      "source": [
        "## Instructions  "
      ]
    },
    {
      "cell_type": "markdown",
      "metadata": {
        "id": "gIDg0xLWwez7"
      },
      "source": [
        "### FPGA Project  \n",
        "1. Create a new Vivado project for the Basys 3 FPGA board.  \n",
        "2. Write Verilog code to implement the stopwatch logic.  \n",
        "3. Map the Verilog design to the Basys 3 board's resources via the basys3 [constraint file](./Demo_Code/basys3_template.xdc) (`.xdc`).   \n",
        "4. Generate the bitstream file.\n",
        "5. Program the FPGA board with the bitstream.  \n",
        "6. Test and debug your stopwatch design on the FPGA board to ensure correct functionality.  \n",
        "7. Document your design, including the Verilog code, functional diagrams, and challenges faced during implementation.  \n",
        "8. **Demo Vivado Project**: [T02_Basys3_StopWatch](./Demo_Code/T02_Basys3_StopWatch)"
      ]
    },
    {
      "cell_type": "markdown",
      "metadata": {
        "id": "UgHn-w67xBOZ"
      },
      "source": [
        "## Simulation"
      ]
    },
    {
      "cell_type": "markdown",
      "metadata": {
        "id": "30dd_HiTwLPy"
      },
      "source": [
        "\n",
        "- [Verify functionality using testbenches and waveform analysis.](Simulation/simT02_Basys3_StopWatch_SSD.ipynb)  \n",
        "\n",
        "\n"
      ]
    },
    {
      "cell_type": "markdown",
      "metadata": {
        "id": "n97dFqn8xeqq"
      },
      "source": [
        "### Additional Challenge (*Optional*):"
      ]
    },
    {
      "cell_type": "markdown",
      "metadata": {
        "id": "Fjny3JVQxUkh"
      },
      "source": [
        "  \n",
        "Add features like **pause/resume functionality** to the stopwatch design.  "
      ]
    },
    {
      "cell_type": "markdown",
      "metadata": {
        "id": "d9fXRE2Dw4sa"
      },
      "source": [
        "## Submission:"
      ]
    },
    {
      "cell_type": "markdown",
      "metadata": {
        "id": "Mz7jZ0eQ1Otu"
      },
      "source": [
        "\n",
        "*This is a group work. Only one member needs to submit the materials.*  \n",
        "1. A self-contained `ipynb` file which:  \n",
        "   - **Google Colab link** and **GitHub link**.  \n",
        "   - **Verilog codes** (module, testbench, waveform, AI prompt, etc.).  \n",
        "   - A **brief report** documenting the design, Python code (e.g., logic expressions, AI-generated code), challenges, and lessons learned;\n",
        "2. A **demonstration video** (less than 1 minute, `.mp4` format).\n",
        "* Submit to **edimension** and share with instructor GitHub: `pe8sutd`, `pe8sutd@gmail.com`.  \n",
        "3. The report should report how AI is used in the design (if applicable). The guideline: [![Open in Colab](https://colab.research.google.com/assets/colab-badge.svg)](https://github.com/pe8sutd/Colab_DSL_Practice25/blob/main/G01_Used_of_AI_in_Design.ipynb)\n",
        "\n",
        "\n",
        "---\n",
        "\n",
        "### Deadline:  \n",
        "Refer to the due date in the **edimension submission folder**.  \n",
        "\n",
        "---\n",
        "\n",
        "### Grading:  \n",
        "Based on:  \n",
        "- Functionality of the stopwatch.  \n",
        "- Clarity of Verilog code.  \n",
        "- Quality of documentation.  \n",
        "*Bonus points for additional features or creative implementations.*  \n",
        "\n",
        "---\n",
        "\n"
      ]
    },
    {
      "cell_type": "markdown",
      "metadata": {
        "id": "6812PdUV1SyA"
      },
      "source": [
        "## Demo Video  \n"
      ]
    },
    {
      "cell_type": "markdown",
      "metadata": {
        "id": "Jp3ActGh1X8n"
      },
      "source": [
        "The following video below shows the stopwatch’s functionality on the Basys 3 board.\n",
        "\n",
        "https://www.youtube.com/watch?v=eFecL3ZtbN0"
      ]
    },
    {
      "cell_type": "code",
      "execution_count": 1,
      "metadata": {
        "id": "wFr5MdqAENL1",
        "outputId": "f9f1a3a3-78e7-4b44-dc4f-8340c74ea3bc",
        "colab": {
          "base_uri": "https://localhost:8080/",
          "height": 321
        }
      },
      "outputs": [
        {
          "output_type": "execute_result",
          "data": {
            "text/plain": [
              "<IPython.lib.display.YouTubeVideo at 0x7b005c68cd10>"
            ],
            "text/html": [
              "\n",
              "        <iframe\n",
              "            width=\"400\"\n",
              "            height=\"300\"\n",
              "            src=\"https://www.youtube.com/embed/eFecL3ZtbN0\"\n",
              "            frameborder=\"0\"\n",
              "            allowfullscreen\n",
              "            \n",
              "        ></iframe>\n",
              "        "
            ],
            "image/jpeg": "[encoded data removed]"
          },
          "metadata": {},
          "execution_count": 1
        }
      ],
      "source": [
        "from IPython.display import YouTubeVideo\n",
        "YouTubeVideo('eFecL3ZtbN0')"
      ]
    },
    {
      "cell_type": "markdown",
      "metadata": {
        "id": "x6Euy-bSENL2"
      },
      "source": [
        "## Design Report\n",
        "\n",
        "Key features\n",
        "\n",
        "- Reset button to restart the counter, but not start/stop it\n",
        "- Start/Stop button to be able to resume/pause the timing.\n",
        "- The timer counter itself is internally run at 1KHz, and is 32 bits wide, so 32'h00000001 is equivalent to 1 milisecond\n",
        "- Time display module converts internal timer counter (miliseconds) into minutes and seconds for display\n",
        "\n",
        "We have to develop the following modules for stopwatch to function correctly\n",
        "\n",
        "- `debounce` Button conditioner: debounce button inputs\n",
        "- `ssd` 7 Segment Driver: to drive the 7 segment display using BCD. This is already provided by lesson materials\n",
        "- `clk_100M_to_1k` 100MHz to 1kHz Clock divider: to produce the 1ms period clock used to drive the internal stopwatch counter\n",
        "- `tff` T-flip flop (TFF): to allow pausing the stopwatch by a single button press, connected to a multiplexor\n",
        "- `ms_to_s` 32-bit ms to 16-bit seconds divider: this produces the raw number of seconds elapsed\n",
        "- `s_to_mmss` 16-bit s to mm:ss divider: this produces the numerical outputs for minutes and seconds, which can then be encoded to BCD\n",
        "- `min_to_bcd` 16-bit minutes to 2x4-bit BCD\n",
        "- `sec_to_bcd` 16-bit seconds to 2x4-bit BCD\n",
        "\n",
        "The inputs to our stopwatch is specified as follows:\n",
        "\n",
        "- btnC: The centre button on the Basys 3 board, which starts/stops the stopwatch\n",
        "- btcU: The up button on the Basys3 board, which resets the stopwatch"
      ]
    },
    {
      "cell_type": "markdown",
      "metadata": {
        "id": "KFX-_P-8ENL2"
      },
      "source": []
    }
  ],
  "metadata": {
    "colab": {
      "provenance": [],
      "include_colab_link": true
    },
    "language_info": {
      "name": "python"
    },
    "kernelspec": {
      "name": "python3",
      "display_name": "Python 3"
    }
  },
  "nbformat": 4,
  "nbformat_minor": 0
}