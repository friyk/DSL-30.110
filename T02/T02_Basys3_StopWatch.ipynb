{
  "cells": [
    {
      "cell_type": "markdown",
      "metadata": {
        "id": "view-in-github",
        "colab_type": "text"
      },
      "source": [
        "<a href=\"https://colab.research.google.com/github/friyk/DSL-30.110/blob/main/T02/T02_Basys3_StopWatch.ipynb\" target=\"_parent\"><img src=\"https://colab.research.google.com/assets/colab-badge.svg\" alt=\"Open In Colab\"/></a>"
      ]
    },
    {
      "cell_type": "markdown",
      "metadata": {
        "id": "AGI9dTkyvqHU"
      },
      "source": [
        "# T02: Stopwatch on Basys 3"
      ]
    },
    {
      "cell_type": "markdown",
      "metadata": {
        "id": "bYIxOAWQI-8S"
      },
      "source": [
        "|Group members|Student ID|\n",
        "|---|---|\n",
        "|Chua Kevin Subong|1007002|\n",
        "|Kaung Khant Htet|1003437|\n",
        "|Ng Au Hern Wesley|1006888|\n",
        "|Pan Ziyue|1006658|\n",
        "|Shum Hei Lam|1009861|"
      ]
    },
    {
      "cell_type": "markdown",
      "metadata": {
        "id": "b0Ci1rh4wr46"
      },
      "source": [
        "## Objective:"
      ]
    },
    {
      "cell_type": "markdown",
      "metadata": {
        "id": "yn8KcwRHvvOR"
      },
      "source": [
        "\n",
        "Design and implement a **stopwatch** on the **Basys 3 FPGA** board using Verilog, making use of the **4-digit** **7-segment** display LEDs for time display. The stopwatch should have the following features:  \n",
        "1. **Reset functionality**: Press a button (e.g., `btnR`) to restart the stopwatch.  \n",
        "2. **Time Display**: Display the elapsed time in minutes and seconds on the 4-digit 7-segment display.  \n",
        "3. **Update Frequency**: Update the display at a reasonable frequency (e.g., every 1 second)."
      ]
    },
    {
      "cell_type": "markdown",
      "metadata": {
        "id": "a-Hza8S3v7iq"
      },
      "source": [
        "## Instructions  "
      ]
    },
    {
      "cell_type": "markdown",
      "metadata": {
        "id": "gIDg0xLWwez7"
      },
      "source": [
        "### FPGA Project  \n",
        "1. Create a new Vivado project for the Basys 3 FPGA board.  \n",
        "2. Write Verilog code to implement the stopwatch logic.  \n",
        "3. Map the Verilog design to the Basys 3 board's resources via the basys3 [constraint file](./Demo_Code/basys3_template.xdc) (`.xdc`).   \n",
        "4. Generate the bitstream file.\n",
        "5. Program the FPGA board with the bitstream.  \n",
        "6. Test and debug your stopwatch design on the FPGA board to ensure correct functionality.  \n",
        "7. Document your design, including the Verilog code, functional diagrams, and challenges faced during implementation.  \n",
        "8. **Demo Vivado Project**: [T02_Basys3_StopWatch](./Demo_Code/T02_Basys3_StopWatch)"
      ]
    },
    {
      "cell_type": "markdown",
      "metadata": {
        "id": "UgHn-w67xBOZ"
      },
      "source": [
        "## Simulation"
      ]
    },
    {
      "cell_type": "markdown",
      "metadata": {
        "id": "30dd_HiTwLPy"
      },
      "source": [
        "\n",
        "- [Verify functionality using testbenches and waveform analysis.](Simulation/simT02_Basys3_StopWatch_SSD.ipynb)  \n",
        "\n",
        "\n"
      ]
    },
    {
      "cell_type": "markdown",
      "metadata": {
        "id": "n97dFqn8xeqq"
      },
      "source": [
        "### Additional Challenge (*Optional*):"
      ]
    },
    {
      "cell_type": "markdown",
      "metadata": {
        "id": "Fjny3JVQxUkh"
      },
      "source": [
        "  \n",
        "Add features like **pause/resume functionality** to the stopwatch design.  "
      ]
    },
    {
      "cell_type": "markdown",
      "metadata": {
        "id": "d9fXRE2Dw4sa"
      },
      "source": [
        "## Submission:"
      ]
    },
    {
      "cell_type": "markdown",
      "metadata": {
        "id": "Mz7jZ0eQ1Otu"
      },
      "source": [
        "\n",
        "*This is a group work. Only one member needs to submit the materials.*  \n",
        "1. A self-contained `ipynb` file which:  \n",
        "   - **Google Colab link** and **GitHub link**.  \n",
        "   - **Verilog codes** (module, testbench, waveform, AI prompt, etc.).  \n",
        "   - A **brief report** documenting the design, Python code (e.g., logic expressions, AI-generated code), challenges, and lessons learned;\n",
        "2. A **demonstration video** (less than 1 minute, `.mp4` format).\n",
        "* Submit to **edimension** and share with instructor GitHub: `pe8sutd`, `pe8sutd@gmail.com`.  \n",
        "3. The report should report how AI is used in the design (if applicable). The guideline: [![Open in Colab](https://colab.research.google.com/assets/colab-badge.svg)](https://github.com/pe8sutd/Colab_DSL_Practice25/blob/main/G01_Used_of_AI_in_Design.ipynb)\n",
        "\n",
        "\n",
        "---\n",
        "\n",
        "### Deadline:  \n",
        "Refer to the due date in the **edimension submission folder**.  \n",
        "\n",
        "---\n",
        "\n",
        "### Grading:  \n",
        "Based on:  \n",
        "- Functionality of the stopwatch.  \n",
        "- Clarity of Verilog code.  \n",
        "- Quality of documentation.  \n",
        "*Bonus points for additional features or creative implementations.*  \n",
        "\n",
        "---\n",
        "\n"
      ]
    },
    {
      "cell_type": "markdown",
      "metadata": {
        "id": "6812PdUV1SyA"
      },
      "source": [
        "## Demo Video  \n"
      ]
    },
    {
      "cell_type": "markdown",
      "metadata": {
        "id": "Jp3ActGh1X8n"
      },
      "source": [
        "The following video below shows the stopwatch’s functionality on the Basys 3 board.\n",
        "\n",
        "https://www.youtube.com/watch?v=eFecL3ZtbN0"
      ]
    },
    {
      "cell_type": "code",
      "execution_count": 1,
      "metadata": {
        "colab": {
          "base_uri": "https://localhost:8080/",
          "height": 321
        },
        "id": "wFr5MdqAENL1",
        "outputId": "f9f1a3a3-78e7-4b44-dc4f-8340c74ea3bc"
      },
      "outputs": [
        {
          "output_type": "execute_result",
          "data": {
            "text/plain": [
              "<IPython.lib.display.YouTubeVideo at 0x7b005c68cd10>"
            ],
            "text/html": [
              "\n",
              "        <iframe\n",
              "            width=\"400\"\n",
              "            height=\"300\"\n",
              "            src=\"https://www.youtube.com/embed/eFecL3ZtbN0\"\n",
              "            frameborder=\"0\"\n",
              "            allowfullscreen\n",
              "            \n",
              "        ></iframe>\n",
              "        "
            ],
            "image/jpeg": "[encoded data removed]"
          },
          "metadata": {},
          "execution_count": 1
        }
      ],
      "source": [
        "from IPython.display import YouTubeVideo\n",
        "YouTubeVideo('eFecL3ZtbN0')"
      ]
    },
    {
      "cell_type": "markdown",
      "metadata": {
        "id": "x6Euy-bSENL2"
      },
      "source": [
        "## Design Report\n",
        "\n",
        "Key features\n",
        "\n",
        "- Reset button to restart the counter, but not start/stop it\n",
        "- Start/Stop button to be able to resume/pause the timing.\n",
        "- The timer counter itself is internally run at 1KHz, and is 32 bits wide, so 32'h00000001 is equivalent to 1 milisecond\n",
        "- Time display module converts internal timer counter (miliseconds) into minutes and seconds for display\n",
        "\n",
        "We have to develop the following modules for stopwatch to function correctly\n",
        "\n",
        "- `debounce` Button conditioner: debounce button inputs\n",
        "- `ssd` 7 Segment Driver: to drive the 7 segment display using BCD. This is already provided by lesson materials\n",
        "- `clk_100M_to_1k` 100MHz to 1kHz Clock divider: to produce the 1ms period clock used to drive the internal stopwatch counter\n",
        "- `tff` T-flip flop (TFF): to allow pausing the stopwatch by a single button press, connected to a multiplexor\n",
        "- `ms_to_s` 32-bit ms to 16-bit seconds divider: this produces the raw number of seconds elapsed\n",
        "- `s_to_mmss` 16-bit s to mm:ss divider: this produces the numerical outputs for minutes and seconds, which can then be encoded to BCD\n",
        "- `min_to_bcd` 16-bit minutes to 2x4-bit BCD\n",
        "- `sec_to_bcd` 16-bit seconds to 2x4-bit BCD\n",
        "\n",
        "The inputs to our stopwatch is specified as follows:\n",
        "\n",
        "- btnC: The centre button on the Basys 3 board, which starts/stops the stopwatch\n",
        "- btcU: The up button on the Basys3 board, which resets the stopwatch"
      ]
    },
    {
      "cell_type": "markdown",
      "source": [
        " ## Block Diagram\n",
        " ![Block Diagram.png](data:image/png;base64,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)"
      ],
      "metadata": {
        "id": "NYqks8aEGU2l"
      }
    },
    {
      "cell_type": "markdown",
      "source": [
        "  ## **Verilog Code** for:  \n"
      ],
      "metadata": {
        "id": "EBe4bk5lF3hG"
      }
    },
    {
      "cell_type": "markdown",
      "source": [
        "  ### top_module"
      ],
      "metadata": {
        "id": "_JVt52zWGBLI"
      }
    },
    {
      "cell_type": "code",
      "source": [
        "`timescale 1ns / 1ps\n",
        "\n",
        "module top_module(\n",
        "    input clk,          // 100MHz master clock\n",
        "    input btnC,         // centre button, used for start/stop\n",
        "    input btnU,         // up button, used for stopwatch reset\n",
        "    input btnR,         // right button, used for master reset\n",
        "\n",
        "    output [6:0]seg,    // 7 segment display\n",
        "    output dp,          // 7 segment display decimal point\n",
        "    output [3:0]an      // 7 segment anode\n",
        "    );\n",
        "\n",
        "    assign dp=1;\n",
        "\n",
        "    // Debounced buttons\n",
        "    wire startstop_btn, stopwatch_rst_btn;\n",
        "    debounce(clk, btnR, btnC, startstop_btn);\n",
        "    debounce(clk, btnR, btnU, stopwatch_rst_btn);\n",
        "\n",
        "    // 500hz clock for driving the display\n",
        "    wire clk500hz;\n",
        "    clk_500hz(clk500hz, clk, stopwatch_rst_btn);\n",
        "\n",
        "    // TFF to stop the clock\n",
        "    wire clock_stopper_mux;\n",
        "    tff(clk500hz, startstop_btn, clock_stopper_mux);\n",
        "\n",
        "    // Master clock to 1kHz downconverter, and multiplexor to switch it\n",
        "    wire clk1khz, clk1khz_switched;\n",
        "    clk_100M_to_1k(clk, stopwatch_rst_btn, clk1khz);\n",
        "    assign clk1khz_switched = clock_stopper_mux ? 0 : clk1khz;\n",
        "\n",
        "    // Master miliseconds counter\n",
        "    wire [31:0] miliseconds;\n",
        "    ms_counter(stopwatch_rst_btn, clk1khz_switched, miliseconds);\n",
        "\n",
        "    // Divide ms to s\n",
        "    wire [15:0] seconds;\n",
        "    ms_to_s(miliseconds, seconds);\n",
        "\n",
        "    // Separate seconds into minutes and seconds\n",
        "    wire [15:0] mm, ss;\n",
        "    s_to_mmss(seconds, clk, mm, ss);\n",
        "\n",
        "    // Convert mm and ss into BCD\n",
        "    wire [3:0] minute_tens, minute_ones, second_tens, second_ones;\n",
        "    min_to_bcd(mm, minute_ones, minute_tens);\n",
        "    sec_to_bcd(ss, second_ones, second_tens);\n",
        "\n",
        "    // Seven segment display\n",
        "    ssd(~stopwatch_rst_btn, clk500hz, minute_tens, minute_ones, second_tens, second_ones, an, seg);\n",
        "\n",
        "endmodule"
      ],
      "metadata": {
        "id": "yRWOcFh8KXyz"
      },
      "execution_count": null,
      "outputs": []
    },
    {
      "cell_type": "markdown",
      "source": [
        "###100Mhz to 1kHz Clock"
      ],
      "metadata": {
        "id": "F8R_18vcGSI5"
      }
    },
    {
      "cell_type": "code",
      "source": [
        "`timescale 1ns / 1ps\n",
        "\n",
        "module clk_100M_to_1k(\n",
        "    input clk_100M,     // Input clock from the FPGA's master clock\n",
        "    input rst,          // Active high reset\n",
        "    output reg clk_1k   // Output clock\n",
        "    );\n",
        "\n",
        "    reg [16:0] counter;\n",
        "\n",
        "    initial clk_1k = 0;\n",
        "    initial counter = 0;\n",
        "\n",
        "    always @(posedge rst, posedge clk_100M) begin\n",
        "        if (rst) begin\n",
        "            counter <= 0;\n",
        "            clk_1k <= 0;\n",
        "        end\n",
        "        else begin\n",
        "            if (counter == 17'd50000) begin // For actual d100000/2=d50000, after this number of clock cycles the 1kHz clock transitions\n",
        "//            if (counter == 17'd9) begin // For testbench purposes\n",
        "                counter <= 0;\n",
        "                clk_1k <= ~clk_1k;\n",
        "            end else\n",
        "                counter <= counter + 1;\n",
        "        end\n",
        "    end\n",
        "endmodule"
      ],
      "metadata": {
        "id": "HBSvtivMKSWh"
      },
      "execution_count": null,
      "outputs": []
    },
    {
      "cell_type": "markdown",
      "source": [
        "### Debounce module for button\n",
        "\n",
        "To generate a single pulse with a period of the slow clock without bouncing"
      ],
      "metadata": {
        "id": "GG16JzaHKepr"
      }
    },
    {
      "cell_type": "code",
      "source": [
        "`timescale 1ns / 1ps\n",
        "\n",
        "module debounce (\n",
        "    input wire clk,        // System clock (e.g., 100 MHz on Basys 3)\n",
        "    input wire reset,      // Reset signal\n",
        "    input wire button_in,  // Raw button input\n",
        "    output reg button_out  // Debounced button output\n",
        ");\n",
        "\n",
        "    reg [19:0] count;      // 20-bit counter for debouncing\n",
        "    reg button_prev;        // Previous state of the button\n",
        "\n",
        "    always @(posedge clk or posedge reset) begin\n",
        "        // Reset counter and button statuses if reset pin asserted\n",
        "        if (reset) begin\n",
        "            count <= 20'b0;\n",
        "            button_prev <= 1'b0;\n",
        "            button_out <= 1'b0;\n",
        "        end else begin\n",
        "            button_prev <= button_in;\n",
        "            // Set counter to 0 when button state changes\n",
        "            if (button_prev != button_in) begin\n",
        "                count <= 20'b0;\n",
        "            // If counter hits maximum, set button output to previous button state\n",
        "            end else if (count == 20'h0000F) begin\n",
        "                button_out <= button_prev;\n",
        "            // Increment counter\n",
        "            end else begin\n",
        "                count <= count + 1;\n",
        "            end\n",
        "        end\n",
        "    end\n",
        "\n",
        "endmodule"
      ],
      "metadata": {
        "id": "4wEfrhWiKxfU"
      },
      "execution_count": null,
      "outputs": []
    },
    {
      "cell_type": "markdown",
      "source": [
        "### T Flip Flop\n",
        "\n",
        "used to intercept an already debounced button press and toggle a state between 0 and 1. Effectively a D flip flop with inverted output shorted to input"
      ],
      "metadata": {
        "id": "KJzfcsQVKzYu"
      }
    },
    {
      "cell_type": "code",
      "source": [
        "`timescale 1ns / 1ps\n",
        "\n",
        "module tff(\n",
        "    input clk,\n",
        "    input t,\n",
        "    output reg q\n",
        "    );\n",
        "\n",
        "    initial q = 0;\n",
        "\n",
        "    always @ (posedge clk) begin\n",
        "        q <= (t ? ~q : q);\n",
        "    end\n",
        "\n",
        "endmodule"
      ],
      "metadata": {
        "id": "2Z_8QWdGK1O2"
      },
      "execution_count": null,
      "outputs": []
    },
    {
      "cell_type": "markdown",
      "source": [
        "### Milliseconds Counter"
      ],
      "metadata": {
        "id": "mOt9FuhQK7GN"
      }
    },
    {
      "cell_type": "code",
      "source": [
        "`timescale 1ns / 1ps\n",
        "\n",
        "module ms_counter(\n",
        "    input rst,\n",
        "    input clk,\n",
        "    output reg [31:0] out\n",
        "    );\n",
        "\n",
        "    initial out = 0;\n",
        "\n",
        "    // Synchronous reset\n",
        "    always @(posedge clk or posedge rst) begin\n",
        "        if (rst)\n",
        "            out <= 0;\n",
        "        else\n",
        "            out <= out + 1;\n",
        "    end\n",
        "\n",
        "endmodule"
      ],
      "metadata": {
        "id": "5iX5BXe4LF3a"
      },
      "execution_count": null,
      "outputs": []
    },
    {
      "cell_type": "markdown",
      "source": [
        "### Milliseconds to seconds"
      ],
      "metadata": {
        "id": "yuoPuL1nLHu9"
      }
    },
    {
      "cell_type": "code",
      "source": [
        "`timescale 1ns / 1ps\n",
        "\n",
        "// Refer to this link https://web.archive.org/web/20180517023231/http://www.hackersdelight.org/divcMore.pdf\n",
        "// For how to do a divide by 1000! Although it's in C, it avoids using any complex operations like multiply and divide\n",
        "\n",
        "module ms_to_s(\n",
        "    input [32:0]ms,\n",
        "    output [15:0]s\n",
        "    );\n",
        "\n",
        "    assign s = ms / 1000;\n",
        "\n",
        "endmodule"
      ],
      "metadata": {
        "id": "iyKKTjXxLSA1"
      },
      "execution_count": null,
      "outputs": []
    },
    {
      "cell_type": "markdown",
      "source": [
        "### Seconds to minutes and seconds (mm:ss)"
      ],
      "metadata": {
        "id": "WJBPjxqqLT9S"
      }
    },
    {
      "cell_type": "code",
      "source": [
        "`timescale 1ns / 1ps\n",
        "\n",
        "module s_to_mmss(\n",
        "    input [15:0] s,\n",
        "    input clk,          // This device relies on the master 100MHz clock to perform simple division\n",
        "    output reg [15:0] mm,\n",
        "    output reg [15:0] ss\n",
        "    );\n",
        "\n",
        "//    assign mm = s / 60;\n",
        "//    assign ss = s % 60;\n",
        "\n",
        "    // We use simple primary school style division, keep subtracting until we cannot subtract anymore and we get our quotient and remainder :)\n",
        "\n",
        "    reg [2:0]state;\n",
        "    reg signed [16:0]quotient;\n",
        "    reg signed [16:0]remainder;\n",
        "    reg signed [16:0]temp;\n",
        "\n",
        "    initial quotient = 0;\n",
        "    initial remainder = 0;\n",
        "    initial state = 0;\n",
        "    initial temp = 0;\n",
        "    initial mm = 0;\n",
        "    initial ss = 0;\n",
        "\n",
        "\n",
        "    always @(posedge clk) begin\n",
        "        // Load from inputs\n",
        "        if (state == 0) begin\n",
        "            // Load seconds into the temp register\n",
        "            temp <= s;\n",
        "\n",
        "            // Reset quotient and remainders\n",
        "            quotient <= 0;\n",
        "            remainder <= 0;\n",
        "\n",
        "            // Preserve output register values\n",
        "            mm <= mm;\n",
        "            ss <= ss;\n",
        "\n",
        "            // Transition to state 0 (calculating state 1)\n",
        "            state <= 1;\n",
        "        end\n",
        "\n",
        "        else if (state == 1) begin\n",
        "            // Save temp to register, before trying to calculate quotient\n",
        "            remainder <= temp;\n",
        "\n",
        "            state <= 2;\n",
        "        end\n",
        "\n",
        "        else if (state == 2) begin\n",
        "            temp <= temp - 60; // Perform division by subtracting 60 repeatedly\n",
        "\n",
        "            state <= 3;\n",
        "        end\n",
        "\n",
        "        else if (state == 3) begin\n",
        "            if (temp < 0) begin\n",
        "                // Ignore the result, we've reached minimum, preserve quotient and save results to output regs\n",
        "                quotient <= quotient;\n",
        "                remainder <= remainder;\n",
        "                state <= 4;\n",
        "            end else begin\n",
        "                // Continue subtracting\n",
        "                quotient <= quotient + 1;\n",
        "                remainder <= remainder;\n",
        "                state <= 1;\n",
        "            end\n",
        "        end\n",
        "\n",
        "        // Save data, and go back to the beginning\n",
        "        else begin\n",
        "            mm <= quotient;\n",
        "            ss <= remainder;\n",
        "\n",
        "            state <= 0;\n",
        "        end\n",
        "\n",
        "    end\n",
        "\n",
        "endmodule"
      ],
      "metadata": {
        "id": "5CiUupTbLZyT"
      },
      "execution_count": null,
      "outputs": []
    },
    {
      "cell_type": "markdown",
      "source": [
        "### Seconds to BCD"
      ],
      "metadata": {
        "id": "by3E6cDLLk_C"
      }
    },
    {
      "cell_type": "code",
      "source": [
        "`timescale 1ns / 1ps\n",
        "\n",
        "module sec_to_bcd(\n",
        "    input  [15:0] ss,       // seconds (0–59)\n",
        "    output [3:0] bcd_0,     // Ones place (0–9)\n",
        "    output [3:0] bcd_1      // Tens place (0–5)\n",
        ");\n",
        "\n",
        "    assign bcd_1 = ss / 10;   // Tens digit\n",
        "    assign bcd_0 = ss % 10;   // Ones digit\n",
        "\n",
        "endmodule"
      ],
      "metadata": {
        "id": "OtJhMMxkLmhP"
      },
      "execution_count": null,
      "outputs": []
    },
    {
      "cell_type": "markdown",
      "source": [
        "###Minutes to BCD"
      ],
      "metadata": {
        "id": "9ynavfZULnjz"
      }
    },
    {
      "cell_type": "code",
      "source": [
        "`timescale 1ns / 1ps\n",
        "\n",
        "module min_to_bcd(\n",
        "    input  [15:0] mm,\n",
        "    output [3:0] bcd_0,\n",
        "    output [3:0] bcd_1\n",
        ");\n",
        "\n",
        "    assign bcd_0 = mm % 10;    // Ones place\n",
        "    assign bcd_1 = mm / 10;    // Tens place\n",
        "\n",
        "endmodule"
      ],
      "metadata": {
        "id": "SiKvndF0LpKO"
      },
      "execution_count": null,
      "outputs": []
    },
    {
      "cell_type": "markdown",
      "source": [
        "### Seven segment display"
      ],
      "metadata": {
        "id": "GPIcBmPbLuep"
      }
    },
    {
      "cell_type": "code",
      "source": [
        "`timescale 1ns / 1ps\n",
        "\n",
        "module ssd(\n",
        "    input           rstn_i,\n",
        "    input           clk_500hz,\n",
        "    input   [3:0]   num3_i,\n",
        "    input   [3:0]   num2_i,\n",
        "    input   [3:0]   num1_i,\n",
        "    input   [3:0]   num0_i,\n",
        "    output  [3:0]   an_o,\n",
        "    output  [7:0]   seg_o\n",
        ");\n",
        "\n",
        "reg [7:0] segment_r;\n",
        "reg [3:0] cur_num_r;\n",
        "reg [3:0] an_r;\n",
        "\n",
        "initial an_r = 0;\n",
        "initial segment_r = 0;\n",
        "\n",
        "assign an_o = ~an_r;       // Anode outputs are inverted\n",
        "assign seg_o = segment_r;  // Segment outputs are not inverted\n",
        "\n",
        "// Anode rotation logic, upon every CLK the anode has to be rotated to the next digit\n",
        "always @(negedge rstn_i, posedge clk_500hz) begin\n",
        "    if (!rstn_i) an_r <= 4'b0000;\n",
        "    else case (an_r)\n",
        "        4'b0001: an_r <= 4'b0010;  // DIG3\n",
        "        4'b0010: an_r <= 4'b0100;  // DIG2\n",
        "        4'b0100: an_r <= 4'b1000;  // DIG1\n",
        "        default: an_r <= 4'b0001;  // DIG4 (including reset state)\n",
        "    endcase\n",
        "end\n",
        "\n",
        "// Mux to wire up the correct digit segments based on the current anode\n",
        "always @(*) begin\n",
        "    case (an_r)\n",
        "        4'b0001: cur_num_r = num0_i;  // DIG4 (LSB)\n",
        "        4'b0010: cur_num_r = num1_i;  // DIG3\n",
        "        4'b0100: cur_num_r = num2_i;  // DIG2\n",
        "        4'b1000: cur_num_r = num3_i;  // DIG1 (MSB)\n",
        "        default: cur_num_r = 4'b0;    // All off\n",
        "    endcase\n",
        "end\n",
        "\n",
        "// Decode number into 7-segment codes\n",
        "always @(*) begin\n",
        "    case (cur_num_r)\n",
        "        4'h0: segment_r = 8'hC0;  // 0\n",
        "        4'h1: segment_r = 8'hF9;  // 1\n",
        "        4'h2: segment_r = 8'hA4;  // 2\n",
        "        4'h3: segment_r = 8'hB0;  // 3\n",
        "        4'h4: segment_r = 8'h99;  // 4\n",
        "        4'h5: segment_r = 8'h92;  // 5\n",
        "        4'h6: segment_r = 8'h82;  // 6\n",
        "        4'h7: segment_r = 8'hF8;  // 7\n",
        "        4'h8: segment_r = 8'h80;  // 8\n",
        "        4'h9: segment_r = 8'h90;  // 9\n",
        "        default: segment_r = 8'hFF; // Off\n",
        "    endcase\n",
        "end\n",
        "\n",
        "endmodule\n",
        "\n",
        "\n",
        "// Provides a 500Hz resettable clock from the 100MHz system clock by decimal division\n",
        "module clk_500hz(\n",
        "    output reg clk_out,\n",
        "    input clk_in, reset\n",
        ");\n",
        "    reg[17:0]count;\n",
        "\n",
        "    always@(posedge clk_in) begin\n",
        "        if (reset)\n",
        "            count <= 18'h000000;\n",
        "        else if (count==18'h30D40) begin\n",
        "            clk_out <= 1'b1; count <= 18'h000000;\n",
        "        end else begin\n",
        "            count <= count + 1'b1;\n",
        "            clk_out <=1'b0;\n",
        "        end\n",
        "    end\n",
        "endmodule"
      ],
      "metadata": {
        "id": "6VsMOt4PLzPt"
      },
      "execution_count": null,
      "outputs": []
    }
  ],
  "metadata": {
    "colab": {
      "provenance": [],
      "include_colab_link": true
    },
    "language_info": {
      "name": "python"
    },
    "kernelspec": {
      "name": "python3",
      "display_name": "Python 3"
    }
  },
  "nbformat": 4,
  "nbformat_minor": 0
}