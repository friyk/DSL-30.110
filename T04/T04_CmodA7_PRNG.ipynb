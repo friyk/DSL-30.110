{
  "cells": [
    {
      "cell_type": "markdown",
      "metadata": {
        "id": "view-in-github",
        "colab_type": "text"
      },
      "source": [
        "<a href=\"https://colab.research.google.com/github/friyk/DSL-30.110/blob/main/T04/T04_CmodA7_PRNG.ipynb\" target=\"_parent\"><img src=\"https://colab.research.google.com/assets/colab-badge.svg\" alt=\"Open In Colab\"/></a>"
      ]
    },
    {
      "cell_type": "markdown",
      "metadata": {
        "id": "42PVV_ZR2vGC"
      },
      "source": [
        "# T04 - CMOD A7 Pseudo Random Number Generator (PRNG)\n",
        "\n",
        "## Objective\n",
        "Design and implement a pseudo-random number generator (PRNG) on the **CMOD A7 FPGA board** using Verilog. The generated number shall be displayed on the 4-digit 7-segment LED display, with features for reset, seeding, and periodic updates.\n",
        "\n",
        "---\n",
        "\n",
        "## Key Features\n",
        "1. **Reset Functionality**  \n",
        "   - Press **BTN0** to restart the system and generate a new seed.\n",
        "   \n",
        "2. **7-Segment Display**  \n",
        "   - Display the pseudo-random number in decimal (e.g., `3271`) or hexadecimal (e.g., `3ab1`).  \n",
        "   - First number after reset must be validated using an external seed source:  \n",
        "     - Ambient temperature  \n",
        "     - Ambient light intensity  \n",
        "     - Thermal noise from resistor  \n",
        "     - Real-time clock  \n",
        "     - *Additional remarks awarded for creative seeding approaches*  \n",
        "\n",
        "3. **Update Frequency**  \n",
        "   - Refresh the displayed number at a configurable interval (e.g., 1 second).  \n",
        "\n",
        "---\n",
        "\n",
        "## Instructions\n",
        "\n",
        "### FPGA Project Setup\n",
        "1. **Vivado Project**  \n",
        "   - Create a new Vivado project targeting the **CMOD A7-35T** FPGA.  \n",
        "\n",
        "2. **Verilog Implementation**  \n",
        "   - Design the PRNG core using a linear feedback shift register (LFSR) or other algorithm.  \n",
        "\n",
        "3. **Testbench (Optional)**  \n",
        "   - Verify PRNG output distribution (e.g., Gaussian) using statistical tests.  \n",
        "\n",
        "4. **Constraint File (.xdc)**  \n",
        "   - Map I/O pins for buttons, clock, and 7-segment display.  \n",
        "\n",
        "5. **Bitstream Generation & Programming**  \n",
        "   - Synthesize the design and program the FPGA.  \n",
        "\n",
        "6. **Testing & Documentation**  \n",
        "   - Debug using onboard LEDs and document challenges, state diagrams, and design choices.  \n",
        "\n",
        "---\n",
        "\n",
        "## Submission Requirements\n",
        "1. **Jupyter Notebook (`T04_CmodA7_PRNG.ipynb`)**  \n",
        "   - Include:  \n",
        "     - **Verilog Code** (modules, testbenches, waveforms).  \n",
        "     - **Demo Video** (≤1 minute, MP4 format).  \n",
        "     - **Report** with design rationale, challenges, and lessons learned.  \n",
        "   - Provide **Google Colab** and **GitHub** links.  \n",
        "\n",
        "2. **Additional Files**  \n",
        "   - Submit `.ipynb` and video to edimension.  \n",
        "\n",
        "---\n",
        "\n",
        "## Additional Challenges (Optional)\n",
        "1. **Application Project**  \n",
        "   - Implement a real-world application (e.g., lottery system, game).  \n",
        "\n",
        "2. **Algorithmic Project**  \n",
        "   - Develop a novel PRNG variant (e.g., combining LFSR with chaos theory).  \n",
        "\n",
        "3. **Theoretical Project**  \n",
        "   - Analyze PRNG properties (e.g., entropy, periodicity).  \n",
        "\n",
        "*Contact the faculty and researchers for customized project ideas.*\n",
        "\n",
        "---\n",
        "\n",
        "## Deadline & Grading\n",
        "- **Deadline**: Set in the edimension submission folder.  \n",
        "- **Grading Criteria**:  \n",
        "  - PRNG functionality (50%)  \n",
        "  - Code clarity & constraint mapping (30%)  \n",
        "  - Documentation quality (20%)  \n",
        "  - *Bonus points for creative implementations.*  \n",
        "- The report should present how AI is used in the design (if applicable). The guideline: [![Open in Colab](https://colab.research.google.com/assets/colab-badge.svg)](https://github.com/pe8sutd/Colab_DSL_Practice25/blob/main/G01_Used_of_AI_in_Design.ipynb)\n",
        "---\n",
        "\n",
        "## Resources\n",
        "- **Instructor GitHub**: [pe8sutd](https://github.com/pe8sutd)  \n",
        "- **Vivado Guides**: See `Google Classroom` for installation and programming tutorials.  \n",
        "- **CMOD A7 PCB Guide**: Refer to `O4_PCB_CMODA7_Tutorial.pdf`.  \n",
        "\n",
        "---\n",
        "\n"
      ]
    },
    {
      "cell_type": "markdown",
      "source": [
        "##Demo Video"
      ],
      "metadata": {
        "id": "UvES4e8D6Plq"
      }
    },
    {
      "cell_type": "markdown",
      "source": [
        "- **Demo Video**: [CMOD A7 Pseudo Random Number Generator](https://youtu.be/L-JueG8n50A)\n",
        "Link : https://youtu.be/L-JueG8n50A  \n",
        "\n",
        "---\n"
      ],
      "metadata": {
        "id": "X4GIvWhz6UWQ"
      }
    }
  ],
  "metadata": {
    "language_info": {
      "name": "python"
    },
    "colab": {
      "provenance": [],
      "include_colab_link": true
    }
  },
  "nbformat": 4,
  "nbformat_minor": 0
}